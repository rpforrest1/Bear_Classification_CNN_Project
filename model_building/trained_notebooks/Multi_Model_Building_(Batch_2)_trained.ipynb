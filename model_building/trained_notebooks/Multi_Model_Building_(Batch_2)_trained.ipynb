{
 "cells": [
  {
   "cell_type": "markdown",
   "id": "599b29ae-8410-4898-adf5-46e1eb00c510",
   "metadata": {
    "papermill": {
     "duration": 0.007609,
     "end_time": "2024-03-19T00:27:32.983857",
     "exception": false,
     "start_time": "2024-03-19T00:27:32.976248",
     "status": "completed"
    },
    "tags": []
   },
   "source": [
    "# Multi Model Building (Batch 2)"
   ]
  },
  {
   "cell_type": "code",
   "execution_count": 1,
   "id": "3fb8c581-0dca-44d5-b57b-fc001f085b4e",
   "metadata": {
    "execution": {
     "iopub.execute_input": "2024-03-19T00:27:32.991371Z",
     "iopub.status.busy": "2024-03-19T00:27:32.991109Z",
     "iopub.status.idle": "2024-03-19T00:27:32.998074Z",
     "shell.execute_reply": "2024-03-19T00:27:32.997624Z"
    },
    "papermill": {
     "duration": 0.012192,
     "end_time": "2024-03-19T00:27:32.999468",
     "exception": false,
     "start_time": "2024-03-19T00:27:32.987276",
     "status": "completed"
    },
    "tags": []
   },
   "outputs": [],
   "source": [
    "FITTING_BATCH_NUM = 2"
   ]
  },
  {
   "cell_type": "code",
   "execution_count": 2,
   "id": "0fb845fd-8c0e-4dc8-a6c4-bc6fe6bfc21e",
   "metadata": {
    "execution": {
     "iopub.execute_input": "2024-03-19T00:27:33.004716Z",
     "iopub.status.busy": "2024-03-19T00:27:33.004549Z",
     "iopub.status.idle": "2024-03-19T00:27:33.006810Z",
     "shell.execute_reply": "2024-03-19T00:27:33.006461Z"
    },
    "papermill": {
     "duration": 0.006159,
     "end_time": "2024-03-19T00:27:33.008070",
     "exception": false,
     "start_time": "2024-03-19T00:27:33.001911",
     "status": "completed"
    },
    "tags": []
   },
   "outputs": [],
   "source": [
    "# Remove TF logging warnings\n",
    "import os\n",
    "os.environ['TF_CPP_MIN_LOG_LEVEL'] = '3'"
   ]
  },
  {
   "cell_type": "code",
   "execution_count": 3,
   "id": "730093ec-74c7-4ffb-95ac-90c84067364c",
   "metadata": {
    "execution": {
     "iopub.execute_input": "2024-03-19T00:27:33.012584Z",
     "iopub.status.busy": "2024-03-19T00:27:33.012434Z",
     "iopub.status.idle": "2024-03-19T00:27:35.080811Z",
     "shell.execute_reply": "2024-03-19T00:27:35.080489Z"
    },
    "papermill": {
     "duration": 2.071853,
     "end_time": "2024-03-19T00:27:35.081894",
     "exception": false,
     "start_time": "2024-03-19T00:27:33.010041",
     "status": "completed"
    },
    "tags": []
   },
   "outputs": [],
   "source": [
    "import pandas as pd\n",
    "import tensorflow as tf\n",
    "import keras\n",
    "from keras import layers\n",
    "from model_helper_functions import create_fit_and_save_model, send_ifttt_notification, update_top_values\n",
    "from data_pipeline import prep_data, get_train_val_test_data\n",
    "from itertools import product\n",
    "import re\n",
    "import pathlib\n",
    "import shutil\n",
    "\n",
    "# Import correct optimizer\n",
    "import platform\n",
    "if platform.system() == \"Darwin\" and platform.processor() == \"arm\":\n",
    "    from keras.optimizers.legacy import RMSprop, Adam\n",
    "else:\n",
    "    from keras.optimizers import RMSprop, Adam"
   ]
  },
  {
   "cell_type": "code",
   "execution_count": 4,
   "id": "f2fc6bc1-2433-4825-bf61-a1476a67580b",
   "metadata": {
    "execution": {
     "iopub.execute_input": "2024-03-19T00:27:35.085887Z",
     "iopub.status.busy": "2024-03-19T00:27:35.085711Z",
     "iopub.status.idle": "2024-03-19T00:27:35.087462Z",
     "shell.execute_reply": "2024-03-19T00:27:35.087224Z"
    },
    "papermill": {
     "duration": 0.00421,
     "end_time": "2024-03-19T00:27:35.088281",
     "exception": false,
     "start_time": "2024-03-19T00:27:35.084071",
     "status": "completed"
    },
    "tags": []
   },
   "outputs": [],
   "source": [
    "# Remove TF logging warnings\n",
    "tf.get_logger().setLevel('ERROR')"
   ]
  },
  {
   "cell_type": "code",
   "execution_count": 5,
   "id": "feb60aae-abf9-4eaa-98b7-4741064f2c23",
   "metadata": {
    "execution": {
     "iopub.execute_input": "2024-03-19T00:27:35.091171Z",
     "iopub.status.busy": "2024-03-19T00:27:35.091076Z",
     "iopub.status.idle": "2024-03-19T00:27:35.092632Z",
     "shell.execute_reply": "2024-03-19T00:27:35.092428Z"
    },
    "papermill": {
     "duration": 0.003828,
     "end_time": "2024-03-19T00:27:35.093369",
     "exception": false,
     "start_time": "2024-03-19T00:27:35.089541",
     "status": "completed"
    },
    "tags": []
   },
   "outputs": [],
   "source": [
    "tf.random.set_seed(15)\n",
    "keras.utils.set_random_seed(15)"
   ]
  },
  {
   "cell_type": "code",
   "execution_count": 6,
   "id": "1a925ad8-5352-4c36-b2ed-f64a7338e09f",
   "metadata": {
    "execution": {
     "iopub.execute_input": "2024-03-19T00:27:35.096285Z",
     "iopub.status.busy": "2024-03-19T00:27:35.096190Z",
     "iopub.status.idle": "2024-03-19T00:27:35.101551Z",
     "shell.execute_reply": "2024-03-19T00:27:35.101329Z"
    },
    "papermill": {
     "duration": 0.007776,
     "end_time": "2024-03-19T00:27:35.102398",
     "exception": false,
     "start_time": "2024-03-19T00:27:35.094622",
     "status": "completed"
    },
    "tags": []
   },
   "outputs": [
    {
     "name": "stdout",
     "output_type": "stream",
     "text": [
      "Training set: 70%, Validation set: 22.5%, Test set: 7.5%\n"
     ]
    }
   ],
   "source": [
    "data_dir = '../bears'\n",
    "df = prep_data(data_dir)\n",
    "train_df, val_df, test_df = get_train_val_test_data(df)"
   ]
  },
  {
   "cell_type": "code",
   "execution_count": 7,
   "id": "302b53e9-bfa0-4fb2-a114-880d408ae75b",
   "metadata": {
    "execution": {
     "iopub.execute_input": "2024-03-19T00:27:35.105425Z",
     "iopub.status.busy": "2024-03-19T00:27:35.105256Z",
     "iopub.status.idle": "2024-03-19T00:27:35.107704Z",
     "shell.execute_reply": "2024-03-19T00:27:35.107496Z"
    },
    "papermill": {
     "duration": 0.00478,
     "end_time": "2024-03-19T00:27:35.108474",
     "exception": false,
     "start_time": "2024-03-19T00:27:35.103694",
     "status": "completed"
    },
    "tags": []
   },
   "outputs": [
    {
     "name": "stdout",
     "output_type": "stream",
     "text": [
      "Total image count: 288\n",
      "Image count equal to dataframe length? True\n"
     ]
    }
   ],
   "source": [
    "image_count = len(list(pathlib.Path(data_dir).glob('*/*')))\n",
    "print('Total image count:',image_count)\n",
    "print('Image count equal to dataframe length?', image_count == len(df))"
   ]
  },
  {
   "cell_type": "code",
   "execution_count": 8,
   "id": "af484362-701b-44d4-95c9-ab8974cbddbb",
   "metadata": {
    "execution": {
     "iopub.execute_input": "2024-03-19T00:27:35.111509Z",
     "iopub.status.busy": "2024-03-19T00:27:35.111415Z",
     "iopub.status.idle": "2024-03-19T00:27:35.113086Z",
     "shell.execute_reply": "2024-03-19T00:27:35.112864Z"
    },
    "papermill": {
     "duration": 0.004001,
     "end_time": "2024-03-19T00:27:35.113831",
     "exception": false,
     "start_time": "2024-03-19T00:27:35.109830",
     "status": "completed"
    },
    "tags": []
   },
   "outputs": [
    {
     "name": "stdout",
     "output_type": "stream",
     "text": [
      "Number of training samples: 201\n",
      "Number of validation samples: 65\n",
      "Number of test samples: 22\n"
     ]
    }
   ],
   "source": [
    "num_train_samples = len(train_df)\n",
    "num_val_samples = len(val_df)\n",
    "num_test_samples = len(test_df)\n",
    "print('Number of training samples:',num_train_samples)\n",
    "print('Number of validation samples:',num_val_samples)\n",
    "print('Number of test samples:',num_test_samples)"
   ]
  },
  {
   "cell_type": "markdown",
   "id": "e5ec3475-76b5-41c7-a00a-b9b1b6027ce0",
   "metadata": {
    "papermill": {
     "duration": 0.001422,
     "end_time": "2024-03-19T00:27:35.116591",
     "exception": false,
     "start_time": "2024-03-19T00:27:35.115169",
     "status": "completed"
    },
    "tags": []
   },
   "source": [
    "---"
   ]
  },
  {
   "cell_type": "markdown",
   "id": "79cbb8e7-08f9-402d-95b6-141bf85f49d6",
   "metadata": {
    "papermill": {
     "duration": 0.001276,
     "end_time": "2024-03-19T00:27:35.119230",
     "exception": false,
     "start_time": "2024-03-19T00:27:35.117954",
     "status": "completed"
    },
    "tags": []
   },
   "source": [
    "## Hyperparameter Grid"
   ]
  },
  {
   "cell_type": "code",
   "execution_count": 9,
   "id": "003b3bff-171b-478f-bf38-ebeed80239af",
   "metadata": {
    "execution": {
     "iopub.execute_input": "2024-03-19T00:27:35.122223Z",
     "iopub.status.busy": "2024-03-19T00:27:35.122134Z",
     "iopub.status.idle": "2024-03-19T00:27:35.124318Z",
     "shell.execute_reply": "2024-03-19T00:27:35.124114Z"
    },
    "papermill": {
     "duration": 0.00453,
     "end_time": "2024-03-19T00:27:35.125038",
     "exception": false,
     "start_time": "2024-03-19T00:27:35.120508",
     "status": "completed"
    },
    "tags": []
   },
   "outputs": [],
   "source": [
    "g_batch_size = [4]\n",
    "g_epochs = [35]\n",
    "g_augmentation_params = [\n",
    "    # either None or (flip, rotate_factor, zoom_factor, random_flip_str)\n",
    "    None,\n",
    "    (True, 0.5, 0.5, 'horizontal'),\n",
    "]\n",
    "g_cnn_params = [\n",
    "    # cnn_units, cnn_filters, cnn_strides\n",
    "    [(32,), [(3,3)], [(1,1)]],\n",
    "    [(32, 64), [(3,3), (3,3)], [(1,1), (1,1)]],\n",
    "]\n",
    "g_dropout = [0]\n",
    "g_dense_units = [\n",
    "    (18, 3),\n",
    "    (32, 3),\n",
    "    (64, 3),\n",
    "]\n",
    "g_activation = ['relu', 'sigmoid']\n",
    "g_optimizer = [Adam, RMSprop]\n",
    "g_earlystop_patience = [15]\n",
    "g_reducel_patience = [2]"
   ]
  },
  {
   "cell_type": "code",
   "execution_count": 10,
   "id": "891b3364-90ab-40f2-852c-abd11a197f23",
   "metadata": {
    "execution": {
     "iopub.execute_input": "2024-03-19T00:27:35.128108Z",
     "iopub.status.busy": "2024-03-19T00:27:35.127994Z",
     "iopub.status.idle": "2024-03-19T00:27:35.129794Z",
     "shell.execute_reply": "2024-03-19T00:27:35.129571Z"
    },
    "papermill": {
     "duration": 0.004102,
     "end_time": "2024-03-19T00:27:35.130496",
     "exception": false,
     "start_time": "2024-03-19T00:27:35.126394",
     "status": "completed"
    },
    "tags": []
   },
   "outputs": [
    {
     "name": "stdout",
     "output_type": "stream",
     "text": [
      "There are 48 parameter combinations to run.\n"
     ]
    }
   ],
   "source": [
    "all_combinations = list(product(g_batch_size, g_epochs, g_augmentation_params, g_cnn_params, g_dropout,\n",
    "                                g_dense_units, g_activation, g_optimizer, g_earlystop_patience, g_reducel_patience))\n",
    "print(f'There are {len(all_combinations)} parameter combinations to run.')"
   ]
  },
  {
   "cell_type": "code",
   "execution_count": 11,
   "id": "1c4d30ba-a824-4426-a083-77b4a53ff784",
   "metadata": {
    "execution": {
     "iopub.execute_input": "2024-03-19T00:27:35.133588Z",
     "iopub.status.busy": "2024-03-19T00:27:35.133495Z",
     "iopub.status.idle": "2024-03-19T00:27:35.138257Z",
     "shell.execute_reply": "2024-03-19T00:27:35.138049Z"
    },
    "papermill": {
     "duration": 0.007181,
     "end_time": "2024-03-19T00:27:35.139024",
     "exception": false,
     "start_time": "2024-03-19T00:27:35.131843",
     "status": "completed"
    },
    "tags": []
   },
   "outputs": [
    {
     "name": "stdout",
     "output_type": "stream",
     "text": [
      "Creating new progress file.\n"
     ]
    }
   ],
   "source": [
    "# Keep track of model fitting in order to resume at a later time if needed.\n",
    "progress_file = f'./model_checkpoints_{FITTING_BATCH_NUM}/model_building_progress.csv'\n",
    "os.makedirs(f'./model_checkpoints_{FITTING_BATCH_NUM}/', exist_ok=True)\n",
    "if os.path.exists(progress_file):\n",
    "    print('Using existing progress file.')\n",
    "    progress = pd.read_csv(progress_file)\n",
    "else:\n",
    "    print('Creating new progress file.')\n",
    "    progress = pd.DataFrame.from_records(all_combinations, columns=['batch_size', 'epochs', 'augmentation_params', 'cnn_params',\n",
    "                                                                    'dropout', 'dense_units', 'activation', 'optimizer',\n",
    "                                                                    'earlystop_patience', 'reducel_patience'])\n",
    "    progress.insert(0, 'model', range(len(all_combinations)))\n",
    "    progress['finished'] = False\n",
    "    class_names = '(Adam|RMSprop)'\n",
    "    progress['optimizer'] = progress['optimizer'].apply(lambda x: re.sub(f'.*{class_names}.*','\\\\1',str(x)))\n",
    "    \n",
    "    progress.to_csv(progress_file, index=False)\n",
    "    progress = pd.read_csv(progress_file)"
   ]
  },
  {
   "cell_type": "code",
   "execution_count": 12,
   "id": "35b58bd8-6527-46e1-a0ff-98a5256c93bb",
   "metadata": {
    "execution": {
     "iopub.execute_input": "2024-03-19T00:27:35.142236Z",
     "iopub.status.busy": "2024-03-19T00:27:35.142146Z",
     "iopub.status.idle": "2024-03-19T00:27:35.149662Z",
     "shell.execute_reply": "2024-03-19T00:27:35.149445Z"
    },
    "papermill": {
     "duration": 0.009979,
     "end_time": "2024-03-19T00:27:35.150447",
     "exception": false,
     "start_time": "2024-03-19T00:27:35.140468",
     "status": "completed"
    },
    "tags": []
   },
   "outputs": [
    {
     "data": {
      "text/html": [
       "<div>\n",
       "<style scoped>\n",
       "    .dataframe tbody tr th:only-of-type {\n",
       "        vertical-align: middle;\n",
       "    }\n",
       "\n",
       "    .dataframe tbody tr th {\n",
       "        vertical-align: top;\n",
       "    }\n",
       "\n",
       "    .dataframe thead th {\n",
       "        text-align: right;\n",
       "    }\n",
       "</style>\n",
       "<table border=\"1\" class=\"dataframe\">\n",
       "  <thead>\n",
       "    <tr style=\"text-align: right;\">\n",
       "      <th></th>\n",
       "      <th>model</th>\n",
       "      <th>batch_size</th>\n",
       "      <th>epochs</th>\n",
       "      <th>augmentation_params</th>\n",
       "      <th>cnn_params</th>\n",
       "      <th>dropout</th>\n",
       "      <th>dense_units</th>\n",
       "      <th>activation</th>\n",
       "      <th>optimizer</th>\n",
       "      <th>earlystop_patience</th>\n",
       "      <th>reducel_patience</th>\n",
       "      <th>finished</th>\n",
       "    </tr>\n",
       "  </thead>\n",
       "  <tbody>\n",
       "    <tr>\n",
       "      <th>0</th>\n",
       "      <td>0</td>\n",
       "      <td>4</td>\n",
       "      <td>35</td>\n",
       "      <td>NaN</td>\n",
       "      <td>[(32,), [(3, 3)], [(1, 1)]]</td>\n",
       "      <td>0</td>\n",
       "      <td>(18, 3)</td>\n",
       "      <td>relu</td>\n",
       "      <td>Adam</td>\n",
       "      <td>15</td>\n",
       "      <td>2</td>\n",
       "      <td>False</td>\n",
       "    </tr>\n",
       "    <tr>\n",
       "      <th>1</th>\n",
       "      <td>1</td>\n",
       "      <td>4</td>\n",
       "      <td>35</td>\n",
       "      <td>NaN</td>\n",
       "      <td>[(32,), [(3, 3)], [(1, 1)]]</td>\n",
       "      <td>0</td>\n",
       "      <td>(18, 3)</td>\n",
       "      <td>relu</td>\n",
       "      <td>RMSprop</td>\n",
       "      <td>15</td>\n",
       "      <td>2</td>\n",
       "      <td>False</td>\n",
       "    </tr>\n",
       "    <tr>\n",
       "      <th>2</th>\n",
       "      <td>2</td>\n",
       "      <td>4</td>\n",
       "      <td>35</td>\n",
       "      <td>NaN</td>\n",
       "      <td>[(32,), [(3, 3)], [(1, 1)]]</td>\n",
       "      <td>0</td>\n",
       "      <td>(18, 3)</td>\n",
       "      <td>sigmoid</td>\n",
       "      <td>Adam</td>\n",
       "      <td>15</td>\n",
       "      <td>2</td>\n",
       "      <td>False</td>\n",
       "    </tr>\n",
       "    <tr>\n",
       "      <th>3</th>\n",
       "      <td>3</td>\n",
       "      <td>4</td>\n",
       "      <td>35</td>\n",
       "      <td>NaN</td>\n",
       "      <td>[(32,), [(3, 3)], [(1, 1)]]</td>\n",
       "      <td>0</td>\n",
       "      <td>(18, 3)</td>\n",
       "      <td>sigmoid</td>\n",
       "      <td>RMSprop</td>\n",
       "      <td>15</td>\n",
       "      <td>2</td>\n",
       "      <td>False</td>\n",
       "    </tr>\n",
       "    <tr>\n",
       "      <th>4</th>\n",
       "      <td>4</td>\n",
       "      <td>4</td>\n",
       "      <td>35</td>\n",
       "      <td>NaN</td>\n",
       "      <td>[(32,), [(3, 3)], [(1, 1)]]</td>\n",
       "      <td>0</td>\n",
       "      <td>(32, 3)</td>\n",
       "      <td>relu</td>\n",
       "      <td>Adam</td>\n",
       "      <td>15</td>\n",
       "      <td>2</td>\n",
       "      <td>False</td>\n",
       "    </tr>\n",
       "    <tr>\n",
       "      <th>5</th>\n",
       "      <td>5</td>\n",
       "      <td>4</td>\n",
       "      <td>35</td>\n",
       "      <td>NaN</td>\n",
       "      <td>[(32,), [(3, 3)], [(1, 1)]]</td>\n",
       "      <td>0</td>\n",
       "      <td>(32, 3)</td>\n",
       "      <td>relu</td>\n",
       "      <td>RMSprop</td>\n",
       "      <td>15</td>\n",
       "      <td>2</td>\n",
       "      <td>False</td>\n",
       "    </tr>\n",
       "    <tr>\n",
       "      <th>6</th>\n",
       "      <td>6</td>\n",
       "      <td>4</td>\n",
       "      <td>35</td>\n",
       "      <td>NaN</td>\n",
       "      <td>[(32,), [(3, 3)], [(1, 1)]]</td>\n",
       "      <td>0</td>\n",
       "      <td>(32, 3)</td>\n",
       "      <td>sigmoid</td>\n",
       "      <td>Adam</td>\n",
       "      <td>15</td>\n",
       "      <td>2</td>\n",
       "      <td>False</td>\n",
       "    </tr>\n",
       "    <tr>\n",
       "      <th>7</th>\n",
       "      <td>7</td>\n",
       "      <td>4</td>\n",
       "      <td>35</td>\n",
       "      <td>NaN</td>\n",
       "      <td>[(32,), [(3, 3)], [(1, 1)]]</td>\n",
       "      <td>0</td>\n",
       "      <td>(32, 3)</td>\n",
       "      <td>sigmoid</td>\n",
       "      <td>RMSprop</td>\n",
       "      <td>15</td>\n",
       "      <td>2</td>\n",
       "      <td>False</td>\n",
       "    </tr>\n",
       "    <tr>\n",
       "      <th>8</th>\n",
       "      <td>8</td>\n",
       "      <td>4</td>\n",
       "      <td>35</td>\n",
       "      <td>NaN</td>\n",
       "      <td>[(32,), [(3, 3)], [(1, 1)]]</td>\n",
       "      <td>0</td>\n",
       "      <td>(64, 3)</td>\n",
       "      <td>relu</td>\n",
       "      <td>Adam</td>\n",
       "      <td>15</td>\n",
       "      <td>2</td>\n",
       "      <td>False</td>\n",
       "    </tr>\n",
       "    <tr>\n",
       "      <th>9</th>\n",
       "      <td>9</td>\n",
       "      <td>4</td>\n",
       "      <td>35</td>\n",
       "      <td>NaN</td>\n",
       "      <td>[(32,), [(3, 3)], [(1, 1)]]</td>\n",
       "      <td>0</td>\n",
       "      <td>(64, 3)</td>\n",
       "      <td>relu</td>\n",
       "      <td>RMSprop</td>\n",
       "      <td>15</td>\n",
       "      <td>2</td>\n",
       "      <td>False</td>\n",
       "    </tr>\n",
       "    <tr>\n",
       "      <th>10</th>\n",
       "      <td>10</td>\n",
       "      <td>4</td>\n",
       "      <td>35</td>\n",
       "      <td>NaN</td>\n",
       "      <td>[(32,), [(3, 3)], [(1, 1)]]</td>\n",
       "      <td>0</td>\n",
       "      <td>(64, 3)</td>\n",
       "      <td>sigmoid</td>\n",
       "      <td>Adam</td>\n",
       "      <td>15</td>\n",
       "      <td>2</td>\n",
       "      <td>False</td>\n",
       "    </tr>\n",
       "    <tr>\n",
       "      <th>11</th>\n",
       "      <td>11</td>\n",
       "      <td>4</td>\n",
       "      <td>35</td>\n",
       "      <td>NaN</td>\n",
       "      <td>[(32,), [(3, 3)], [(1, 1)]]</td>\n",
       "      <td>0</td>\n",
       "      <td>(64, 3)</td>\n",
       "      <td>sigmoid</td>\n",
       "      <td>RMSprop</td>\n",
       "      <td>15</td>\n",
       "      <td>2</td>\n",
       "      <td>False</td>\n",
       "    </tr>\n",
       "    <tr>\n",
       "      <th>12</th>\n",
       "      <td>12</td>\n",
       "      <td>4</td>\n",
       "      <td>35</td>\n",
       "      <td>NaN</td>\n",
       "      <td>[(32, 64), [(3, 3), (3, 3)], [(1, 1), (1, 1)]]</td>\n",
       "      <td>0</td>\n",
       "      <td>(18, 3)</td>\n",
       "      <td>relu</td>\n",
       "      <td>Adam</td>\n",
       "      <td>15</td>\n",
       "      <td>2</td>\n",
       "      <td>False</td>\n",
       "    </tr>\n",
       "    <tr>\n",
       "      <th>13</th>\n",
       "      <td>13</td>\n",
       "      <td>4</td>\n",
       "      <td>35</td>\n",
       "      <td>NaN</td>\n",
       "      <td>[(32, 64), [(3, 3), (3, 3)], [(1, 1), (1, 1)]]</td>\n",
       "      <td>0</td>\n",
       "      <td>(18, 3)</td>\n",
       "      <td>relu</td>\n",
       "      <td>RMSprop</td>\n",
       "      <td>15</td>\n",
       "      <td>2</td>\n",
       "      <td>False</td>\n",
       "    </tr>\n",
       "    <tr>\n",
       "      <th>14</th>\n",
       "      <td>14</td>\n",
       "      <td>4</td>\n",
       "      <td>35</td>\n",
       "      <td>NaN</td>\n",
       "      <td>[(32, 64), [(3, 3), (3, 3)], [(1, 1), (1, 1)]]</td>\n",
       "      <td>0</td>\n",
       "      <td>(18, 3)</td>\n",
       "      <td>sigmoid</td>\n",
       "      <td>Adam</td>\n",
       "      <td>15</td>\n",
       "      <td>2</td>\n",
       "      <td>False</td>\n",
       "    </tr>\n",
       "    <tr>\n",
       "      <th>15</th>\n",
       "      <td>15</td>\n",
       "      <td>4</td>\n",
       "      <td>35</td>\n",
       "      <td>NaN</td>\n",
       "      <td>[(32, 64), [(3, 3), (3, 3)], [(1, 1), (1, 1)]]</td>\n",
       "      <td>0</td>\n",
       "      <td>(18, 3)</td>\n",
       "      <td>sigmoid</td>\n",
       "      <td>RMSprop</td>\n",
       "      <td>15</td>\n",
       "      <td>2</td>\n",
       "      <td>False</td>\n",
       "    </tr>\n",
       "    <tr>\n",
       "      <th>16</th>\n",
       "      <td>16</td>\n",
       "      <td>4</td>\n",
       "      <td>35</td>\n",
       "      <td>NaN</td>\n",
       "      <td>[(32, 64), [(3, 3), (3, 3)], [(1, 1), (1, 1)]]</td>\n",
       "      <td>0</td>\n",
       "      <td>(32, 3)</td>\n",
       "      <td>relu</td>\n",
       "      <td>Adam</td>\n",
       "      <td>15</td>\n",
       "      <td>2</td>\n",
       "      <td>False</td>\n",
       "    </tr>\n",
       "    <tr>\n",
       "      <th>17</th>\n",
       "      <td>17</td>\n",
       "      <td>4</td>\n",
       "      <td>35</td>\n",
       "      <td>NaN</td>\n",
       "      <td>[(32, 64), [(3, 3), (3, 3)], [(1, 1), (1, 1)]]</td>\n",
       "      <td>0</td>\n",
       "      <td>(32, 3)</td>\n",
       "      <td>relu</td>\n",
       "      <td>RMSprop</td>\n",
       "      <td>15</td>\n",
       "      <td>2</td>\n",
       "      <td>False</td>\n",
       "    </tr>\n",
       "    <tr>\n",
       "      <th>18</th>\n",
       "      <td>18</td>\n",
       "      <td>4</td>\n",
       "      <td>35</td>\n",
       "      <td>NaN</td>\n",
       "      <td>[(32, 64), [(3, 3), (3, 3)], [(1, 1), (1, 1)]]</td>\n",
       "      <td>0</td>\n",
       "      <td>(32, 3)</td>\n",
       "      <td>sigmoid</td>\n",
       "      <td>Adam</td>\n",
       "      <td>15</td>\n",
       "      <td>2</td>\n",
       "      <td>False</td>\n",
       "    </tr>\n",
       "    <tr>\n",
       "      <th>19</th>\n",
       "      <td>19</td>\n",
       "      <td>4</td>\n",
       "      <td>35</td>\n",
       "      <td>NaN</td>\n",
       "      <td>[(32, 64), [(3, 3), (3, 3)], [(1, 1), (1, 1)]]</td>\n",
       "      <td>0</td>\n",
       "      <td>(32, 3)</td>\n",
       "      <td>sigmoid</td>\n",
       "      <td>RMSprop</td>\n",
       "      <td>15</td>\n",
       "      <td>2</td>\n",
       "      <td>False</td>\n",
       "    </tr>\n",
       "    <tr>\n",
       "      <th>20</th>\n",
       "      <td>20</td>\n",
       "      <td>4</td>\n",
       "      <td>35</td>\n",
       "      <td>NaN</td>\n",
       "      <td>[(32, 64), [(3, 3), (3, 3)], [(1, 1), (1, 1)]]</td>\n",
       "      <td>0</td>\n",
       "      <td>(64, 3)</td>\n",
       "      <td>relu</td>\n",
       "      <td>Adam</td>\n",
       "      <td>15</td>\n",
       "      <td>2</td>\n",
       "      <td>False</td>\n",
       "    </tr>\n",
       "    <tr>\n",
       "      <th>21</th>\n",
       "      <td>21</td>\n",
       "      <td>4</td>\n",
       "      <td>35</td>\n",
       "      <td>NaN</td>\n",
       "      <td>[(32, 64), [(3, 3), (3, 3)], [(1, 1), (1, 1)]]</td>\n",
       "      <td>0</td>\n",
       "      <td>(64, 3)</td>\n",
       "      <td>relu</td>\n",
       "      <td>RMSprop</td>\n",
       "      <td>15</td>\n",
       "      <td>2</td>\n",
       "      <td>False</td>\n",
       "    </tr>\n",
       "    <tr>\n",
       "      <th>22</th>\n",
       "      <td>22</td>\n",
       "      <td>4</td>\n",
       "      <td>35</td>\n",
       "      <td>NaN</td>\n",
       "      <td>[(32, 64), [(3, 3), (3, 3)], [(1, 1), (1, 1)]]</td>\n",
       "      <td>0</td>\n",
       "      <td>(64, 3)</td>\n",
       "      <td>sigmoid</td>\n",
       "      <td>Adam</td>\n",
       "      <td>15</td>\n",
       "      <td>2</td>\n",
       "      <td>False</td>\n",
       "    </tr>\n",
       "    <tr>\n",
       "      <th>23</th>\n",
       "      <td>23</td>\n",
       "      <td>4</td>\n",
       "      <td>35</td>\n",
       "      <td>NaN</td>\n",
       "      <td>[(32, 64), [(3, 3), (3, 3)], [(1, 1), (1, 1)]]</td>\n",
       "      <td>0</td>\n",
       "      <td>(64, 3)</td>\n",
       "      <td>sigmoid</td>\n",
       "      <td>RMSprop</td>\n",
       "      <td>15</td>\n",
       "      <td>2</td>\n",
       "      <td>False</td>\n",
       "    </tr>\n",
       "    <tr>\n",
       "      <th>24</th>\n",
       "      <td>24</td>\n",
       "      <td>4</td>\n",
       "      <td>35</td>\n",
       "      <td>(True, 0.5, 0.5, 'horizontal')</td>\n",
       "      <td>[(32,), [(3, 3)], [(1, 1)]]</td>\n",
       "      <td>0</td>\n",
       "      <td>(18, 3)</td>\n",
       "      <td>relu</td>\n",
       "      <td>Adam</td>\n",
       "      <td>15</td>\n",
       "      <td>2</td>\n",
       "      <td>False</td>\n",
       "    </tr>\n",
       "    <tr>\n",
       "      <th>25</th>\n",
       "      <td>25</td>\n",
       "      <td>4</td>\n",
       "      <td>35</td>\n",
       "      <td>(True, 0.5, 0.5, 'horizontal')</td>\n",
       "      <td>[(32,), [(3, 3)], [(1, 1)]]</td>\n",
       "      <td>0</td>\n",
       "      <td>(18, 3)</td>\n",
       "      <td>relu</td>\n",
       "      <td>RMSprop</td>\n",
       "      <td>15</td>\n",
       "      <td>2</td>\n",
       "      <td>False</td>\n",
       "    </tr>\n",
       "    <tr>\n",
       "      <th>26</th>\n",
       "      <td>26</td>\n",
       "      <td>4</td>\n",
       "      <td>35</td>\n",
       "      <td>(True, 0.5, 0.5, 'horizontal')</td>\n",
       "      <td>[(32,), [(3, 3)], [(1, 1)]]</td>\n",
       "      <td>0</td>\n",
       "      <td>(18, 3)</td>\n",
       "      <td>sigmoid</td>\n",
       "      <td>Adam</td>\n",
       "      <td>15</td>\n",
       "      <td>2</td>\n",
       "      <td>False</td>\n",
       "    </tr>\n",
       "    <tr>\n",
       "      <th>27</th>\n",
       "      <td>27</td>\n",
       "      <td>4</td>\n",
       "      <td>35</td>\n",
       "      <td>(True, 0.5, 0.5, 'horizontal')</td>\n",
       "      <td>[(32,), [(3, 3)], [(1, 1)]]</td>\n",
       "      <td>0</td>\n",
       "      <td>(18, 3)</td>\n",
       "      <td>sigmoid</td>\n",
       "      <td>RMSprop</td>\n",
       "      <td>15</td>\n",
       "      <td>2</td>\n",
       "      <td>False</td>\n",
       "    </tr>\n",
       "    <tr>\n",
       "      <th>28</th>\n",
       "      <td>28</td>\n",
       "      <td>4</td>\n",
       "      <td>35</td>\n",
       "      <td>(True, 0.5, 0.5, 'horizontal')</td>\n",
       "      <td>[(32,), [(3, 3)], [(1, 1)]]</td>\n",
       "      <td>0</td>\n",
       "      <td>(32, 3)</td>\n",
       "      <td>relu</td>\n",
       "      <td>Adam</td>\n",
       "      <td>15</td>\n",
       "      <td>2</td>\n",
       "      <td>False</td>\n",
       "    </tr>\n",
       "    <tr>\n",
       "      <th>29</th>\n",
       "      <td>29</td>\n",
       "      <td>4</td>\n",
       "      <td>35</td>\n",
       "      <td>(True, 0.5, 0.5, 'horizontal')</td>\n",
       "      <td>[(32,), [(3, 3)], [(1, 1)]]</td>\n",
       "      <td>0</td>\n",
       "      <td>(32, 3)</td>\n",
       "      <td>relu</td>\n",
       "      <td>RMSprop</td>\n",
       "      <td>15</td>\n",
       "      <td>2</td>\n",
       "      <td>False</td>\n",
       "    </tr>\n",
       "    <tr>\n",
       "      <th>30</th>\n",
       "      <td>30</td>\n",
       "      <td>4</td>\n",
       "      <td>35</td>\n",
       "      <td>(True, 0.5, 0.5, 'horizontal')</td>\n",
       "      <td>[(32,), [(3, 3)], [(1, 1)]]</td>\n",
       "      <td>0</td>\n",
       "      <td>(32, 3)</td>\n",
       "      <td>sigmoid</td>\n",
       "      <td>Adam</td>\n",
       "      <td>15</td>\n",
       "      <td>2</td>\n",
       "      <td>False</td>\n",
       "    </tr>\n",
       "    <tr>\n",
       "      <th>31</th>\n",
       "      <td>31</td>\n",
       "      <td>4</td>\n",
       "      <td>35</td>\n",
       "      <td>(True, 0.5, 0.5, 'horizontal')</td>\n",
       "      <td>[(32,), [(3, 3)], [(1, 1)]]</td>\n",
       "      <td>0</td>\n",
       "      <td>(32, 3)</td>\n",
       "      <td>sigmoid</td>\n",
       "      <td>RMSprop</td>\n",
       "      <td>15</td>\n",
       "      <td>2</td>\n",
       "      <td>False</td>\n",
       "    </tr>\n",
       "    <tr>\n",
       "      <th>32</th>\n",
       "      <td>32</td>\n",
       "      <td>4</td>\n",
       "      <td>35</td>\n",
       "      <td>(True, 0.5, 0.5, 'horizontal')</td>\n",
       "      <td>[(32,), [(3, 3)], [(1, 1)]]</td>\n",
       "      <td>0</td>\n",
       "      <td>(64, 3)</td>\n",
       "      <td>relu</td>\n",
       "      <td>Adam</td>\n",
       "      <td>15</td>\n",
       "      <td>2</td>\n",
       "      <td>False</td>\n",
       "    </tr>\n",
       "    <tr>\n",
       "      <th>33</th>\n",
       "      <td>33</td>\n",
       "      <td>4</td>\n",
       "      <td>35</td>\n",
       "      <td>(True, 0.5, 0.5, 'horizontal')</td>\n",
       "      <td>[(32,), [(3, 3)], [(1, 1)]]</td>\n",
       "      <td>0</td>\n",
       "      <td>(64, 3)</td>\n",
       "      <td>relu</td>\n",
       "      <td>RMSprop</td>\n",
       "      <td>15</td>\n",
       "      <td>2</td>\n",
       "      <td>False</td>\n",
       "    </tr>\n",
       "    <tr>\n",
       "      <th>34</th>\n",
       "      <td>34</td>\n",
       "      <td>4</td>\n",
       "      <td>35</td>\n",
       "      <td>(True, 0.5, 0.5, 'horizontal')</td>\n",
       "      <td>[(32,), [(3, 3)], [(1, 1)]]</td>\n",
       "      <td>0</td>\n",
       "      <td>(64, 3)</td>\n",
       "      <td>sigmoid</td>\n",
       "      <td>Adam</td>\n",
       "      <td>15</td>\n",
       "      <td>2</td>\n",
       "      <td>False</td>\n",
       "    </tr>\n",
       "    <tr>\n",
       "      <th>35</th>\n",
       "      <td>35</td>\n",
       "      <td>4</td>\n",
       "      <td>35</td>\n",
       "      <td>(True, 0.5, 0.5, 'horizontal')</td>\n",
       "      <td>[(32,), [(3, 3)], [(1, 1)]]</td>\n",
       "      <td>0</td>\n",
       "      <td>(64, 3)</td>\n",
       "      <td>sigmoid</td>\n",
       "      <td>RMSprop</td>\n",
       "      <td>15</td>\n",
       "      <td>2</td>\n",
       "      <td>False</td>\n",
       "    </tr>\n",
       "    <tr>\n",
       "      <th>36</th>\n",
       "      <td>36</td>\n",
       "      <td>4</td>\n",
       "      <td>35</td>\n",
       "      <td>(True, 0.5, 0.5, 'horizontal')</td>\n",
       "      <td>[(32, 64), [(3, 3), (3, 3)], [(1, 1), (1, 1)]]</td>\n",
       "      <td>0</td>\n",
       "      <td>(18, 3)</td>\n",
       "      <td>relu</td>\n",
       "      <td>Adam</td>\n",
       "      <td>15</td>\n",
       "      <td>2</td>\n",
       "      <td>False</td>\n",
       "    </tr>\n",
       "    <tr>\n",
       "      <th>37</th>\n",
       "      <td>37</td>\n",
       "      <td>4</td>\n",
       "      <td>35</td>\n",
       "      <td>(True, 0.5, 0.5, 'horizontal')</td>\n",
       "      <td>[(32, 64), [(3, 3), (3, 3)], [(1, 1), (1, 1)]]</td>\n",
       "      <td>0</td>\n",
       "      <td>(18, 3)</td>\n",
       "      <td>relu</td>\n",
       "      <td>RMSprop</td>\n",
       "      <td>15</td>\n",
       "      <td>2</td>\n",
       "      <td>False</td>\n",
       "    </tr>\n",
       "    <tr>\n",
       "      <th>38</th>\n",
       "      <td>38</td>\n",
       "      <td>4</td>\n",
       "      <td>35</td>\n",
       "      <td>(True, 0.5, 0.5, 'horizontal')</td>\n",
       "      <td>[(32, 64), [(3, 3), (3, 3)], [(1, 1), (1, 1)]]</td>\n",
       "      <td>0</td>\n",
       "      <td>(18, 3)</td>\n",
       "      <td>sigmoid</td>\n",
       "      <td>Adam</td>\n",
       "      <td>15</td>\n",
       "      <td>2</td>\n",
       "      <td>False</td>\n",
       "    </tr>\n",
       "    <tr>\n",
       "      <th>39</th>\n",
       "      <td>39</td>\n",
       "      <td>4</td>\n",
       "      <td>35</td>\n",
       "      <td>(True, 0.5, 0.5, 'horizontal')</td>\n",
       "      <td>[(32, 64), [(3, 3), (3, 3)], [(1, 1), (1, 1)]]</td>\n",
       "      <td>0</td>\n",
       "      <td>(18, 3)</td>\n",
       "      <td>sigmoid</td>\n",
       "      <td>RMSprop</td>\n",
       "      <td>15</td>\n",
       "      <td>2</td>\n",
       "      <td>False</td>\n",
       "    </tr>\n",
       "    <tr>\n",
       "      <th>40</th>\n",
       "      <td>40</td>\n",
       "      <td>4</td>\n",
       "      <td>35</td>\n",
       "      <td>(True, 0.5, 0.5, 'horizontal')</td>\n",
       "      <td>[(32, 64), [(3, 3), (3, 3)], [(1, 1), (1, 1)]]</td>\n",
       "      <td>0</td>\n",
       "      <td>(32, 3)</td>\n",
       "      <td>relu</td>\n",
       "      <td>Adam</td>\n",
       "      <td>15</td>\n",
       "      <td>2</td>\n",
       "      <td>False</td>\n",
       "    </tr>\n",
       "    <tr>\n",
       "      <th>41</th>\n",
       "      <td>41</td>\n",
       "      <td>4</td>\n",
       "      <td>35</td>\n",
       "      <td>(True, 0.5, 0.5, 'horizontal')</td>\n",
       "      <td>[(32, 64), [(3, 3), (3, 3)], [(1, 1), (1, 1)]]</td>\n",
       "      <td>0</td>\n",
       "      <td>(32, 3)</td>\n",
       "      <td>relu</td>\n",
       "      <td>RMSprop</td>\n",
       "      <td>15</td>\n",
       "      <td>2</td>\n",
       "      <td>False</td>\n",
       "    </tr>\n",
       "    <tr>\n",
       "      <th>42</th>\n",
       "      <td>42</td>\n",
       "      <td>4</td>\n",
       "      <td>35</td>\n",
       "      <td>(True, 0.5, 0.5, 'horizontal')</td>\n",
       "      <td>[(32, 64), [(3, 3), (3, 3)], [(1, 1), (1, 1)]]</td>\n",
       "      <td>0</td>\n",
       "      <td>(32, 3)</td>\n",
       "      <td>sigmoid</td>\n",
       "      <td>Adam</td>\n",
       "      <td>15</td>\n",
       "      <td>2</td>\n",
       "      <td>False</td>\n",
       "    </tr>\n",
       "    <tr>\n",
       "      <th>43</th>\n",
       "      <td>43</td>\n",
       "      <td>4</td>\n",
       "      <td>35</td>\n",
       "      <td>(True, 0.5, 0.5, 'horizontal')</td>\n",
       "      <td>[(32, 64), [(3, 3), (3, 3)], [(1, 1), (1, 1)]]</td>\n",
       "      <td>0</td>\n",
       "      <td>(32, 3)</td>\n",
       "      <td>sigmoid</td>\n",
       "      <td>RMSprop</td>\n",
       "      <td>15</td>\n",
       "      <td>2</td>\n",
       "      <td>False</td>\n",
       "    </tr>\n",
       "    <tr>\n",
       "      <th>44</th>\n",
       "      <td>44</td>\n",
       "      <td>4</td>\n",
       "      <td>35</td>\n",
       "      <td>(True, 0.5, 0.5, 'horizontal')</td>\n",
       "      <td>[(32, 64), [(3, 3), (3, 3)], [(1, 1), (1, 1)]]</td>\n",
       "      <td>0</td>\n",
       "      <td>(64, 3)</td>\n",
       "      <td>relu</td>\n",
       "      <td>Adam</td>\n",
       "      <td>15</td>\n",
       "      <td>2</td>\n",
       "      <td>False</td>\n",
       "    </tr>\n",
       "    <tr>\n",
       "      <th>45</th>\n",
       "      <td>45</td>\n",
       "      <td>4</td>\n",
       "      <td>35</td>\n",
       "      <td>(True, 0.5, 0.5, 'horizontal')</td>\n",
       "      <td>[(32, 64), [(3, 3), (3, 3)], [(1, 1), (1, 1)]]</td>\n",
       "      <td>0</td>\n",
       "      <td>(64, 3)</td>\n",
       "      <td>relu</td>\n",
       "      <td>RMSprop</td>\n",
       "      <td>15</td>\n",
       "      <td>2</td>\n",
       "      <td>False</td>\n",
       "    </tr>\n",
       "    <tr>\n",
       "      <th>46</th>\n",
       "      <td>46</td>\n",
       "      <td>4</td>\n",
       "      <td>35</td>\n",
       "      <td>(True, 0.5, 0.5, 'horizontal')</td>\n",
       "      <td>[(32, 64), [(3, 3), (3, 3)], [(1, 1), (1, 1)]]</td>\n",
       "      <td>0</td>\n",
       "      <td>(64, 3)</td>\n",
       "      <td>sigmoid</td>\n",
       "      <td>Adam</td>\n",
       "      <td>15</td>\n",
       "      <td>2</td>\n",
       "      <td>False</td>\n",
       "    </tr>\n",
       "    <tr>\n",
       "      <th>47</th>\n",
       "      <td>47</td>\n",
       "      <td>4</td>\n",
       "      <td>35</td>\n",
       "      <td>(True, 0.5, 0.5, 'horizontal')</td>\n",
       "      <td>[(32, 64), [(3, 3), (3, 3)], [(1, 1), (1, 1)]]</td>\n",
       "      <td>0</td>\n",
       "      <td>(64, 3)</td>\n",
       "      <td>sigmoid</td>\n",
       "      <td>RMSprop</td>\n",
       "      <td>15</td>\n",
       "      <td>2</td>\n",
       "      <td>False</td>\n",
       "    </tr>\n",
       "  </tbody>\n",
       "</table>\n",
       "</div>"
      ],
      "text/plain": [
       "    model  batch_size  epochs             augmentation_params  \\\n",
       "0       0           4      35                             NaN   \n",
       "1       1           4      35                             NaN   \n",
       "2       2           4      35                             NaN   \n",
       "3       3           4      35                             NaN   \n",
       "4       4           4      35                             NaN   \n",
       "5       5           4      35                             NaN   \n",
       "6       6           4      35                             NaN   \n",
       "7       7           4      35                             NaN   \n",
       "8       8           4      35                             NaN   \n",
       "9       9           4      35                             NaN   \n",
       "10     10           4      35                             NaN   \n",
       "11     11           4      35                             NaN   \n",
       "12     12           4      35                             NaN   \n",
       "13     13           4      35                             NaN   \n",
       "14     14           4      35                             NaN   \n",
       "15     15           4      35                             NaN   \n",
       "16     16           4      35                             NaN   \n",
       "17     17           4      35                             NaN   \n",
       "18     18           4      35                             NaN   \n",
       "19     19           4      35                             NaN   \n",
       "20     20           4      35                             NaN   \n",
       "21     21           4      35                             NaN   \n",
       "22     22           4      35                             NaN   \n",
       "23     23           4      35                             NaN   \n",
       "24     24           4      35  (True, 0.5, 0.5, 'horizontal')   \n",
       "25     25           4      35  (True, 0.5, 0.5, 'horizontal')   \n",
       "26     26           4      35  (True, 0.5, 0.5, 'horizontal')   \n",
       "27     27           4      35  (True, 0.5, 0.5, 'horizontal')   \n",
       "28     28           4      35  (True, 0.5, 0.5, 'horizontal')   \n",
       "29     29           4      35  (True, 0.5, 0.5, 'horizontal')   \n",
       "30     30           4      35  (True, 0.5, 0.5, 'horizontal')   \n",
       "31     31           4      35  (True, 0.5, 0.5, 'horizontal')   \n",
       "32     32           4      35  (True, 0.5, 0.5, 'horizontal')   \n",
       "33     33           4      35  (True, 0.5, 0.5, 'horizontal')   \n",
       "34     34           4      35  (True, 0.5, 0.5, 'horizontal')   \n",
       "35     35           4      35  (True, 0.5, 0.5, 'horizontal')   \n",
       "36     36           4      35  (True, 0.5, 0.5, 'horizontal')   \n",
       "37     37           4      35  (True, 0.5, 0.5, 'horizontal')   \n",
       "38     38           4      35  (True, 0.5, 0.5, 'horizontal')   \n",
       "39     39           4      35  (True, 0.5, 0.5, 'horizontal')   \n",
       "40     40           4      35  (True, 0.5, 0.5, 'horizontal')   \n",
       "41     41           4      35  (True, 0.5, 0.5, 'horizontal')   \n",
       "42     42           4      35  (True, 0.5, 0.5, 'horizontal')   \n",
       "43     43           4      35  (True, 0.5, 0.5, 'horizontal')   \n",
       "44     44           4      35  (True, 0.5, 0.5, 'horizontal')   \n",
       "45     45           4      35  (True, 0.5, 0.5, 'horizontal')   \n",
       "46     46           4      35  (True, 0.5, 0.5, 'horizontal')   \n",
       "47     47           4      35  (True, 0.5, 0.5, 'horizontal')   \n",
       "\n",
       "                                        cnn_params  dropout dense_units  \\\n",
       "0                      [(32,), [(3, 3)], [(1, 1)]]        0     (18, 3)   \n",
       "1                      [(32,), [(3, 3)], [(1, 1)]]        0     (18, 3)   \n",
       "2                      [(32,), [(3, 3)], [(1, 1)]]        0     (18, 3)   \n",
       "3                      [(32,), [(3, 3)], [(1, 1)]]        0     (18, 3)   \n",
       "4                      [(32,), [(3, 3)], [(1, 1)]]        0     (32, 3)   \n",
       "5                      [(32,), [(3, 3)], [(1, 1)]]        0     (32, 3)   \n",
       "6                      [(32,), [(3, 3)], [(1, 1)]]        0     (32, 3)   \n",
       "7                      [(32,), [(3, 3)], [(1, 1)]]        0     (32, 3)   \n",
       "8                      [(32,), [(3, 3)], [(1, 1)]]        0     (64, 3)   \n",
       "9                      [(32,), [(3, 3)], [(1, 1)]]        0     (64, 3)   \n",
       "10                     [(32,), [(3, 3)], [(1, 1)]]        0     (64, 3)   \n",
       "11                     [(32,), [(3, 3)], [(1, 1)]]        0     (64, 3)   \n",
       "12  [(32, 64), [(3, 3), (3, 3)], [(1, 1), (1, 1)]]        0     (18, 3)   \n",
       "13  [(32, 64), [(3, 3), (3, 3)], [(1, 1), (1, 1)]]        0     (18, 3)   \n",
       "14  [(32, 64), [(3, 3), (3, 3)], [(1, 1), (1, 1)]]        0     (18, 3)   \n",
       "15  [(32, 64), [(3, 3), (3, 3)], [(1, 1), (1, 1)]]        0     (18, 3)   \n",
       "16  [(32, 64), [(3, 3), (3, 3)], [(1, 1), (1, 1)]]        0     (32, 3)   \n",
       "17  [(32, 64), [(3, 3), (3, 3)], [(1, 1), (1, 1)]]        0     (32, 3)   \n",
       "18  [(32, 64), [(3, 3), (3, 3)], [(1, 1), (1, 1)]]        0     (32, 3)   \n",
       "19  [(32, 64), [(3, 3), (3, 3)], [(1, 1), (1, 1)]]        0     (32, 3)   \n",
       "20  [(32, 64), [(3, 3), (3, 3)], [(1, 1), (1, 1)]]        0     (64, 3)   \n",
       "21  [(32, 64), [(3, 3), (3, 3)], [(1, 1), (1, 1)]]        0     (64, 3)   \n",
       "22  [(32, 64), [(3, 3), (3, 3)], [(1, 1), (1, 1)]]        0     (64, 3)   \n",
       "23  [(32, 64), [(3, 3), (3, 3)], [(1, 1), (1, 1)]]        0     (64, 3)   \n",
       "24                     [(32,), [(3, 3)], [(1, 1)]]        0     (18, 3)   \n",
       "25                     [(32,), [(3, 3)], [(1, 1)]]        0     (18, 3)   \n",
       "26                     [(32,), [(3, 3)], [(1, 1)]]        0     (18, 3)   \n",
       "27                     [(32,), [(3, 3)], [(1, 1)]]        0     (18, 3)   \n",
       "28                     [(32,), [(3, 3)], [(1, 1)]]        0     (32, 3)   \n",
       "29                     [(32,), [(3, 3)], [(1, 1)]]        0     (32, 3)   \n",
       "30                     [(32,), [(3, 3)], [(1, 1)]]        0     (32, 3)   \n",
       "31                     [(32,), [(3, 3)], [(1, 1)]]        0     (32, 3)   \n",
       "32                     [(32,), [(3, 3)], [(1, 1)]]        0     (64, 3)   \n",
       "33                     [(32,), [(3, 3)], [(1, 1)]]        0     (64, 3)   \n",
       "34                     [(32,), [(3, 3)], [(1, 1)]]        0     (64, 3)   \n",
       "35                     [(32,), [(3, 3)], [(1, 1)]]        0     (64, 3)   \n",
       "36  [(32, 64), [(3, 3), (3, 3)], [(1, 1), (1, 1)]]        0     (18, 3)   \n",
       "37  [(32, 64), [(3, 3), (3, 3)], [(1, 1), (1, 1)]]        0     (18, 3)   \n",
       "38  [(32, 64), [(3, 3), (3, 3)], [(1, 1), (1, 1)]]        0     (18, 3)   \n",
       "39  [(32, 64), [(3, 3), (3, 3)], [(1, 1), (1, 1)]]        0     (18, 3)   \n",
       "40  [(32, 64), [(3, 3), (3, 3)], [(1, 1), (1, 1)]]        0     (32, 3)   \n",
       "41  [(32, 64), [(3, 3), (3, 3)], [(1, 1), (1, 1)]]        0     (32, 3)   \n",
       "42  [(32, 64), [(3, 3), (3, 3)], [(1, 1), (1, 1)]]        0     (32, 3)   \n",
       "43  [(32, 64), [(3, 3), (3, 3)], [(1, 1), (1, 1)]]        0     (32, 3)   \n",
       "44  [(32, 64), [(3, 3), (3, 3)], [(1, 1), (1, 1)]]        0     (64, 3)   \n",
       "45  [(32, 64), [(3, 3), (3, 3)], [(1, 1), (1, 1)]]        0     (64, 3)   \n",
       "46  [(32, 64), [(3, 3), (3, 3)], [(1, 1), (1, 1)]]        0     (64, 3)   \n",
       "47  [(32, 64), [(3, 3), (3, 3)], [(1, 1), (1, 1)]]        0     (64, 3)   \n",
       "\n",
       "   activation optimizer  earlystop_patience  reducel_patience  finished  \n",
       "0        relu      Adam                  15                 2     False  \n",
       "1        relu   RMSprop                  15                 2     False  \n",
       "2     sigmoid      Adam                  15                 2     False  \n",
       "3     sigmoid   RMSprop                  15                 2     False  \n",
       "4        relu      Adam                  15                 2     False  \n",
       "5        relu   RMSprop                  15                 2     False  \n",
       "6     sigmoid      Adam                  15                 2     False  \n",
       "7     sigmoid   RMSprop                  15                 2     False  \n",
       "8        relu      Adam                  15                 2     False  \n",
       "9        relu   RMSprop                  15                 2     False  \n",
       "10    sigmoid      Adam                  15                 2     False  \n",
       "11    sigmoid   RMSprop                  15                 2     False  \n",
       "12       relu      Adam                  15                 2     False  \n",
       "13       relu   RMSprop                  15                 2     False  \n",
       "14    sigmoid      Adam                  15                 2     False  \n",
       "15    sigmoid   RMSprop                  15                 2     False  \n",
       "16       relu      Adam                  15                 2     False  \n",
       "17       relu   RMSprop                  15                 2     False  \n",
       "18    sigmoid      Adam                  15                 2     False  \n",
       "19    sigmoid   RMSprop                  15                 2     False  \n",
       "20       relu      Adam                  15                 2     False  \n",
       "21       relu   RMSprop                  15                 2     False  \n",
       "22    sigmoid      Adam                  15                 2     False  \n",
       "23    sigmoid   RMSprop                  15                 2     False  \n",
       "24       relu      Adam                  15                 2     False  \n",
       "25       relu   RMSprop                  15                 2     False  \n",
       "26    sigmoid      Adam                  15                 2     False  \n",
       "27    sigmoid   RMSprop                  15                 2     False  \n",
       "28       relu      Adam                  15                 2     False  \n",
       "29       relu   RMSprop                  15                 2     False  \n",
       "30    sigmoid      Adam                  15                 2     False  \n",
       "31    sigmoid   RMSprop                  15                 2     False  \n",
       "32       relu      Adam                  15                 2     False  \n",
       "33       relu   RMSprop                  15                 2     False  \n",
       "34    sigmoid      Adam                  15                 2     False  \n",
       "35    sigmoid   RMSprop                  15                 2     False  \n",
       "36       relu      Adam                  15                 2     False  \n",
       "37       relu   RMSprop                  15                 2     False  \n",
       "38    sigmoid      Adam                  15                 2     False  \n",
       "39    sigmoid   RMSprop                  15                 2     False  \n",
       "40       relu      Adam                  15                 2     False  \n",
       "41       relu   RMSprop                  15                 2     False  \n",
       "42    sigmoid      Adam                  15                 2     False  \n",
       "43    sigmoid   RMSprop                  15                 2     False  \n",
       "44       relu      Adam                  15                 2     False  \n",
       "45       relu   RMSprop                  15                 2     False  \n",
       "46    sigmoid      Adam                  15                 2     False  \n",
       "47    sigmoid   RMSprop                  15                 2     False  "
      ]
     },
     "metadata": {},
     "output_type": "display_data"
    }
   ],
   "source": [
    "display(progress)"
   ]
  },
  {
   "cell_type": "markdown",
   "id": "849c891f-882a-467d-90c9-b6877c476959",
   "metadata": {
    "papermill": {
     "duration": 0.001642,
     "end_time": "2024-03-19T00:27:35.153828",
     "exception": false,
     "start_time": "2024-03-19T00:27:35.152186",
     "status": "completed"
    },
    "tags": []
   },
   "source": [
    "---"
   ]
  },
  {
   "cell_type": "markdown",
   "id": "03e5db2a-8f10-458e-9f95-594507365306",
   "metadata": {
    "papermill": {
     "duration": 0.001614,
     "end_time": "2024-03-19T00:27:35.157069",
     "exception": false,
     "start_time": "2024-03-19T00:27:35.155455",
     "status": "completed"
    },
    "tags": []
   },
   "source": [
    "## Fit Models"
   ]
  },
  {
   "cell_type": "code",
   "execution_count": 13,
   "id": "160132fe-c34d-4876-b86f-48bdb93a6bf3",
   "metadata": {
    "execution": {
     "iopub.execute_input": "2024-03-19T00:27:35.160900Z",
     "iopub.status.busy": "2024-03-19T00:27:35.160798Z",
     "iopub.status.idle": "2024-03-19T02:12:25.140630Z",
     "shell.execute_reply": "2024-03-19T02:12:25.140273Z"
    },
    "papermill": {
     "duration": 6289.98734,
     "end_time": "2024-03-19T02:12:25.146101",
     "exception": false,
     "start_time": "2024-03-19T00:27:35.158761",
     "status": "completed"
    },
    "tags": []
   },
   "outputs": [
    {
     "name": "stdout",
     "output_type": "stream",
     "text": [
      "Model 0: validation accuracy= 0.5385, ran epochs= 18, best epoch= 3, time=1.62min.\n"
     ]
    },
    {
     "name": "stdout",
     "output_type": "stream",
     "text": [
      "Model 1: validation accuracy= 0.8308, ran epochs= 25, best epoch= 10, time=2.35min.\n"
     ]
    },
    {
     "name": "stdout",
     "output_type": "stream",
     "text": [
      "Model 2: validation accuracy= 0.3385, ran epochs= 16, best epoch= 1, time=1.40min.\n"
     ]
    },
    {
     "name": "stdout",
     "output_type": "stream",
     "text": [
      "Model 3: validation accuracy= 0.3385, ran epochs= 16, best epoch= 1, time=1.49min.\n"
     ]
    },
    {
     "name": "stdout",
     "output_type": "stream",
     "text": [
      "Model 4: validation accuracy= 0.8000, ran epochs= 30, best epoch= 15, time=2.14min.\n"
     ]
    },
    {
     "name": "stdout",
     "output_type": "stream",
     "text": [
      "Model 5: validation accuracy= 0.8615, ran epochs= 26, best epoch= 11, time=2.04min.\n"
     ]
    },
    {
     "name": "stdout",
     "output_type": "stream",
     "text": [
      "Model 6: validation accuracy= 0.3385, ran epochs= 16, best epoch= 1, time=1.09min.\n"
     ]
    },
    {
     "name": "stdout",
     "output_type": "stream",
     "text": [
      "Model 7: validation accuracy= 0.3385, ran epochs= 16, best epoch= 1, time=1.23min.\n"
     ]
    },
    {
     "name": "stdout",
     "output_type": "stream",
     "text": [
      "Model 8: validation accuracy= 0.7692, ran epochs= 24, best epoch= 9, time=1.97min.\n"
     ]
    },
    {
     "name": "stdout",
     "output_type": "stream",
     "text": [
      "Model 9: validation accuracy= 0.7846, ran epochs= 30, best epoch= 15, time=2.93min.\n"
     ]
    },
    {
     "name": "stdout",
     "output_type": "stream",
     "text": [
      "Model 10: validation accuracy= 0.3385, ran epochs= 16, best epoch= 1, time=1.25min.\n"
     ]
    },
    {
     "name": "stdout",
     "output_type": "stream",
     "text": [
      "Model 11: validation accuracy= 0.3385, ran epochs= 16, best epoch= 1, time=1.53min.\n"
     ]
    },
    {
     "name": "stdout",
     "output_type": "stream",
     "text": [
      "Model 12: validation accuracy= 0.7692, ran epochs= 32, best epoch= 17, time=2.53min.\n"
     ]
    },
    {
     "name": "stdout",
     "output_type": "stream",
     "text": [
      "Model 13: validation accuracy= 0.6615, ran epochs= 28, best epoch= 13, time=2.28min.\n"
     ]
    },
    {
     "name": "stdout",
     "output_type": "stream",
     "text": [
      "Model 14: validation accuracy= 0.3385, ran epochs= 16, best epoch= 1, time=1.23min.\n"
     ]
    },
    {
     "name": "stdout",
     "output_type": "stream",
     "text": [
      "Model 15: validation accuracy= 0.8000, ran epochs= 27, best epoch= 12, time=2.20min.\n"
     ]
    },
    {
     "name": "stdout",
     "output_type": "stream",
     "text": [
      "Model 16: validation accuracy= 0.6000, ran epochs= 32, best epoch= 17, time=2.24min.\n"
     ]
    },
    {
     "name": "stdout",
     "output_type": "stream",
     "text": [
      "Model 17: validation accuracy= 0.8000, ran epochs= 27, best epoch= 12, time=2.00min.\n"
     ]
    },
    {
     "name": "stdout",
     "output_type": "stream",
     "text": [
      "Model 18: validation accuracy= 0.3385, ran epochs= 16, best epoch= 1, time=1.09min.\n"
     ]
    },
    {
     "name": "stdout",
     "output_type": "stream",
     "text": [
      "Model 19: validation accuracy= 0.8769, ran epochs= 35, best epoch= 21, time=2.59min.\n"
     ]
    },
    {
     "name": "stdout",
     "output_type": "stream",
     "text": [
      "Model 20: validation accuracy= 0.4462, ran epochs= 32, best epoch= 17, time=2.39min.\n"
     ]
    },
    {
     "name": "stdout",
     "output_type": "stream",
     "text": [
      "Model 21: validation accuracy= 0.7385, ran epochs= 26, best epoch= 11, time=2.16min.\n"
     ]
    },
    {
     "name": "stdout",
     "output_type": "stream",
     "text": [
      "Model 22: validation accuracy= 0.3385, ran epochs= 16, best epoch= 1, time=1.16min.\n"
     ]
    },
    {
     "name": "stdout",
     "output_type": "stream",
     "text": [
      "Model 23: validation accuracy= 0.9077, ran epochs= 35, best epoch= 23, time=2.90min.\n"
     ]
    },
    {
     "name": "stdout",
     "output_type": "stream",
     "text": [
      "Model 24: validation accuracy= 0.6308, ran epochs= 28, best epoch= 13, time=2.96min.\n"
     ]
    },
    {
     "name": "stdout",
     "output_type": "stream",
     "text": [
      "Model 25: validation accuracy= 0.8615, ran epochs= 35, best epoch= 20, time=3.89min.\n"
     ]
    },
    {
     "name": "stdout",
     "output_type": "stream",
     "text": [
      "Model 26: validation accuracy= 0.3385, ran epochs= 16, best epoch= 1, time=1.65min.\n"
     ]
    },
    {
     "name": "stdout",
     "output_type": "stream",
     "text": [
      "Model 27: validation accuracy= 0.3385, ran epochs= 16, best epoch= 1, time=1.75min.\n"
     ]
    },
    {
     "name": "stdout",
     "output_type": "stream",
     "text": [
      "Model 28: validation accuracy= 0.6923, ran epochs= 35, best epoch= 27, time=3.13min.\n"
     ]
    },
    {
     "name": "stdout",
     "output_type": "stream",
     "text": [
      "Model 29: validation accuracy= 0.7692, ran epochs= 35, best epoch= 20, time=3.32min.\n"
     ]
    },
    {
     "name": "stdout",
     "output_type": "stream",
     "text": [
      "Model 30: validation accuracy= 0.3385, ran epochs= 16, best epoch= 1, time=1.34min.\n"
     ]
    },
    {
     "name": "stdout",
     "output_type": "stream",
     "text": [
      "Model 31: validation accuracy= 0.3385, ran epochs= 16, best epoch= 1, time=1.49min.\n"
     ]
    },
    {
     "name": "stdout",
     "output_type": "stream",
     "text": [
      "Model 32: validation accuracy= 0.8154, ran epochs= 27, best epoch= 12, time=2.65min.\n"
     ]
    },
    {
     "name": "stdout",
     "output_type": "stream",
     "text": [
      "Model 33: validation accuracy= 0.8308, ran epochs= 28, best epoch= 13, time=3.16min.\n"
     ]
    },
    {
     "name": "stdout",
     "output_type": "stream",
     "text": [
      "Model 34: validation accuracy= 0.3385, ran epochs= 16, best epoch= 1, time=1.49min.\n"
     ]
    },
    {
     "name": "stdout",
     "output_type": "stream",
     "text": [
      "Model 35: validation accuracy= 0.3385, ran epochs= 16, best epoch= 1, time=1.76min.\n"
     ]
    },
    {
     "name": "stdout",
     "output_type": "stream",
     "text": [
      "Model 36: validation accuracy= 0.4308, ran epochs= 21, best epoch= 6, time=1.96min.\n"
     ]
    },
    {
     "name": "stdout",
     "output_type": "stream",
     "text": [
      "Model 37: validation accuracy= 0.4154, ran epochs= 22, best epoch= 7, time=2.11min.\n"
     ]
    },
    {
     "name": "stdout",
     "output_type": "stream",
     "text": [
      "Model 38: validation accuracy= 0.3385, ran epochs= 16, best epoch= 1, time=1.49min.\n"
     ]
    },
    {
     "name": "stdout",
     "output_type": "stream",
     "text": [
      "Model 39: validation accuracy= 0.7846, ran epochs= 35, best epoch= 21, time=3.39min.\n"
     ]
    },
    {
     "name": "stdout",
     "output_type": "stream",
     "text": [
      "Model 40: validation accuracy= 0.5846, ran epochs= 35, best epoch= 32, time=2.93min.\n"
     ]
    },
    {
     "name": "stdout",
     "output_type": "stream",
     "text": [
      "Model 41: validation accuracy= 0.7692, ran epochs= 27, best epoch= 12, time=2.45min.\n"
     ]
    },
    {
     "name": "stdout",
     "output_type": "stream",
     "text": [
      "Model 42: validation accuracy= 0.4923, ran epochs= 35, best epoch= 23, time=2.94min.\n"
     ]
    },
    {
     "name": "stdout",
     "output_type": "stream",
     "text": [
      "Model 43: validation accuracy= 0.8462, ran epochs= 27, best epoch= 12, time=2.43min.\n"
     ]
    },
    {
     "name": "stdout",
     "output_type": "stream",
     "text": [
      "Model 44: validation accuracy= 0.6154, ran epochs= 28, best epoch= 13, time=2.52min.\n"
     ]
    },
    {
     "name": "stdout",
     "output_type": "stream",
     "text": [
      "Model 45: validation accuracy= 0.8000, ran epochs= 27, best epoch= 12, time=2.70min.\n"
     ]
    },
    {
     "name": "stdout",
     "output_type": "stream",
     "text": [
      "Model 46: validation accuracy= 0.3385, ran epochs= 16, best epoch= 1, time=1.40min.\n"
     ]
    },
    {
     "name": "stdout",
     "output_type": "stream",
     "text": [
      "Model 47: validation accuracy= 0.8615, ran epochs= 32, best epoch= 17, time=3.19min.\n"
     ]
    }
   ],
   "source": [
    "os.makedirs(f'./model_checkpoints_{FITTING_BATCH_NUM}/val_metrics', exist_ok=True)\n",
    "os.makedirs(f'./model_checkpoints_{FITTING_BATCH_NUM}/model_histories', exist_ok=True)\n",
    "top_val_acc = dict()\n",
    "models = []\n",
    "for i, params in enumerate(all_combinations):\n",
    "    if progress.at[i, 'finished']:\n",
    "        print(f'Model {i} has already been fitted.')\n",
    "    else:\n",
    "        try:\n",
    "            val_metrics = create_fit_and_save_model(f'model{i}', train_df, val_df, test_df, params, FITTING_BATCH_NUM)\n",
    "            progress.at[i, 'finished'] = True\n",
    "            progress.to_csv(progress_file, index=False)\n",
    "            print(f\"\"\"Model {i}: validation accuracy= {val_metrics['accuracy']:.4f}, ran epochs= {val_metrics['ran_epochs']}, best epoch= {val_metrics['best_epoch']}, time={val_metrics['total_time']/60:.2f}min.\"\"\")\n",
    "            \n",
    "            update_top_values(top_val_acc, val_metrics['accuracy'], i, FITTING_BATCH_NUM)\n",
    "                \n",
    "        except:\n",
    "            print(f'ERROR fitting model {i}')"
   ]
  },
  {
   "cell_type": "code",
   "execution_count": 14,
   "id": "c627a5df-a8e8-4958-90a7-fd42dc50b1a2",
   "metadata": {
    "execution": {
     "iopub.execute_input": "2024-03-19T02:12:25.153558Z",
     "iopub.status.busy": "2024-03-19T02:12:25.153417Z",
     "iopub.status.idle": "2024-03-19T02:12:25.648796Z",
     "shell.execute_reply": "2024-03-19T02:12:25.647658Z"
    },
    "papermill": {
     "duration": 0.5027,
     "end_time": "2024-03-19T02:12:25.652505",
     "exception": false,
     "start_time": "2024-03-19T02:12:25.149805",
     "status": "completed"
    },
    "tags": []
   },
   "outputs": [
    {
     "name": "stdout",
     "output_type": "stream",
     "text": [
      "Notification sent\n"
     ]
    }
   ],
   "source": [
    "send_ifttt_notification('finished')"
   ]
  },
  {
   "cell_type": "markdown",
   "id": "b789fa1f-b388-475d-a25d-4b905729fb5b",
   "metadata": {
    "papermill": {
     "duration": 0.005941,
     "end_time": "2024-03-19T02:12:25.669747",
     "exception": false,
     "start_time": "2024-03-19T02:12:25.663806",
     "status": "completed"
    },
    "tags": []
   },
   "source": [
    "---"
   ]
  }
 ],
 "metadata": {
  "kernelspec": {
   "display_name": "Python 3 (ipykernel)",
   "language": "python",
   "name": "python3"
  },
  "language_info": {
   "codemirror_mode": {
    "name": "ipython",
    "version": 3
   },
   "file_extension": ".py",
   "mimetype": "text/x-python",
   "name": "python",
   "nbconvert_exporter": "python",
   "pygments_lexer": "ipython3",
   "version": "3.10.8"
  },
  "papermill": {
   "default_parameters": {},
   "duration": 6294.759402,
   "end_time": "2024-03-19T02:12:26.916224",
   "environment_variables": {},
   "exception": null,
   "input_path": "./Multi_Model_Building_(Batch_2).ipynb",
   "output_path": "./trained_notebooks/Multi_Model_Building_(Batch_2)_trained.ipynb",
   "parameters": {},
   "start_time": "2024-03-19T00:27:32.156822",
   "version": "2.5.0"
  }
 },
 "nbformat": 4,
 "nbformat_minor": 5
}