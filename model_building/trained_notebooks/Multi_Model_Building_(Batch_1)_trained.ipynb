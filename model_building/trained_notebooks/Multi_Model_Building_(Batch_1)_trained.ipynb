{
 "cells": [
  {
   "cell_type": "markdown",
   "id": "599b29ae-8410-4898-adf5-46e1eb00c510",
   "metadata": {
    "papermill": {
     "duration": 0.002745,
     "end_time": "2024-03-18T23:21:03.068129",
     "exception": false,
     "start_time": "2024-03-18T23:21:03.065384",
     "status": "completed"
    },
    "tags": []
   },
   "source": [
    "# Multi Model Building (Batch 1)"
   ]
  },
  {
   "cell_type": "code",
   "execution_count": 1,
   "id": "3fb8c581-0dca-44d5-b57b-fc001f085b4e",
   "metadata": {
    "execution": {
     "iopub.execute_input": "2024-03-18T23:21:03.072672Z",
     "iopub.status.busy": "2024-03-18T23:21:03.072494Z",
     "iopub.status.idle": "2024-03-18T23:21:03.077436Z",
     "shell.execute_reply": "2024-03-18T23:21:03.077107Z"
    },
    "papermill": {
     "duration": 0.008271,
     "end_time": "2024-03-18T23:21:03.078416",
     "exception": false,
     "start_time": "2024-03-18T23:21:03.070145",
     "status": "completed"
    },
    "tags": []
   },
   "outputs": [],
   "source": [
    "FITTING_BATCH_NUM = 1"
   ]
  },
  {
   "cell_type": "code",
   "execution_count": 2,
   "id": "0fb845fd-8c0e-4dc8-a6c4-bc6fe6bfc21e",
   "metadata": {
    "execution": {
     "iopub.execute_input": "2024-03-18T23:21:03.082222Z",
     "iopub.status.busy": "2024-03-18T23:21:03.082083Z",
     "iopub.status.idle": "2024-03-18T23:21:03.083920Z",
     "shell.execute_reply": "2024-03-18T23:21:03.083658Z"
    },
    "papermill": {
     "duration": 0.004843,
     "end_time": "2024-03-18T23:21:03.084856",
     "exception": false,
     "start_time": "2024-03-18T23:21:03.080013",
     "status": "completed"
    },
    "tags": []
   },
   "outputs": [],
   "source": [
    "# Remove TF logging warnings\n",
    "import os\n",
    "os.environ['TF_CPP_MIN_LOG_LEVEL'] = '3'"
   ]
  },
  {
   "cell_type": "code",
   "execution_count": 3,
   "id": "730093ec-74c7-4ffb-95ac-90c84067364c",
   "metadata": {
    "execution": {
     "iopub.execute_input": "2024-03-18T23:21:03.088211Z",
     "iopub.status.busy": "2024-03-18T23:21:03.088096Z",
     "iopub.status.idle": "2024-03-18T23:21:05.149897Z",
     "shell.execute_reply": "2024-03-18T23:21:05.149479Z"
    },
    "papermill": {
     "duration": 2.064693,
     "end_time": "2024-03-18T23:21:05.151008",
     "exception": false,
     "start_time": "2024-03-18T23:21:03.086315",
     "status": "completed"
    },
    "tags": []
   },
   "outputs": [],
   "source": [
    "import pandas as pd\n",
    "import tensorflow as tf\n",
    "import keras\n",
    "from keras import layers\n",
    "from model_helper_functions import create_fit_and_save_model, send_ifttt_notification, update_top_values\n",
    "from data_pipeline import prep_data, get_train_val_test_data\n",
    "from itertools import product\n",
    "import re\n",
    "import pathlib\n",
    "import shutil\n",
    "\n",
    "# Import correct optimizer\n",
    "import platform\n",
    "if platform.system() == \"Darwin\" and platform.processor() == \"arm\":\n",
    "    from keras.optimizers.legacy import RMSprop, Adam\n",
    "else:\n",
    "    from keras.optimizers import RMSprop, Adam"
   ]
  },
  {
   "cell_type": "code",
   "execution_count": 4,
   "id": "f2fc6bc1-2433-4825-bf61-a1476a67580b",
   "metadata": {
    "execution": {
     "iopub.execute_input": "2024-03-18T23:21:05.154995Z",
     "iopub.status.busy": "2024-03-18T23:21:05.154809Z",
     "iopub.status.idle": "2024-03-18T23:21:05.156530Z",
     "shell.execute_reply": "2024-03-18T23:21:05.156304Z"
    },
    "papermill": {
     "duration": 0.004141,
     "end_time": "2024-03-18T23:21:05.157284",
     "exception": false,
     "start_time": "2024-03-18T23:21:05.153143",
     "status": "completed"
    },
    "tags": []
   },
   "outputs": [],
   "source": [
    "# Remove TF logging warnings\n",
    "tf.get_logger().setLevel('ERROR')"
   ]
  },
  {
   "cell_type": "code",
   "execution_count": 5,
   "id": "feb60aae-abf9-4eaa-98b7-4741064f2c23",
   "metadata": {
    "execution": {
     "iopub.execute_input": "2024-03-18T23:21:05.160137Z",
     "iopub.status.busy": "2024-03-18T23:21:05.159974Z",
     "iopub.status.idle": "2024-03-18T23:21:05.161642Z",
     "shell.execute_reply": "2024-03-18T23:21:05.161405Z"
    },
    "papermill": {
     "duration": 0.0039,
     "end_time": "2024-03-18T23:21:05.162370",
     "exception": false,
     "start_time": "2024-03-18T23:21:05.158470",
     "status": "completed"
    },
    "tags": []
   },
   "outputs": [],
   "source": [
    "tf.random.set_seed(15)\n",
    "keras.utils.set_random_seed(15)"
   ]
  },
  {
   "cell_type": "code",
   "execution_count": 6,
   "id": "1a925ad8-5352-4c36-b2ed-f64a7338e09f",
   "metadata": {
    "execution": {
     "iopub.execute_input": "2024-03-18T23:21:05.165357Z",
     "iopub.status.busy": "2024-03-18T23:21:05.165254Z",
     "iopub.status.idle": "2024-03-18T23:21:05.170651Z",
     "shell.execute_reply": "2024-03-18T23:21:05.170449Z"
    },
    "papermill": {
     "duration": 0.007744,
     "end_time": "2024-03-18T23:21:05.171428",
     "exception": false,
     "start_time": "2024-03-18T23:21:05.163684",
     "status": "completed"
    },
    "tags": []
   },
   "outputs": [
    {
     "name": "stdout",
     "output_type": "stream",
     "text": [
      "Training set: 70%, Validation set: 22.5%, Test set: 7.5%\n"
     ]
    }
   ],
   "source": [
    "data_dir = '../bears'\n",
    "df = prep_data(data_dir)\n",
    "train_df, val_df, test_df = get_train_val_test_data(df)"
   ]
  },
  {
   "cell_type": "code",
   "execution_count": 7,
   "id": "302b53e9-bfa0-4fb2-a114-880d408ae75b",
   "metadata": {
    "execution": {
     "iopub.execute_input": "2024-03-18T23:21:05.174444Z",
     "iopub.status.busy": "2024-03-18T23:21:05.174338Z",
     "iopub.status.idle": "2024-03-18T23:21:05.176833Z",
     "shell.execute_reply": "2024-03-18T23:21:05.176615Z"
    },
    "papermill": {
     "duration": 0.005035,
     "end_time": "2024-03-18T23:21:05.177778",
     "exception": false,
     "start_time": "2024-03-18T23:21:05.172743",
     "status": "completed"
    },
    "tags": []
   },
   "outputs": [
    {
     "name": "stdout",
     "output_type": "stream",
     "text": [
      "Total image count: 288\n",
      "Image count equal to dataframe length? True\n"
     ]
    }
   ],
   "source": [
    "image_count = len(list(pathlib.Path(data_dir).glob('*/*')))\n",
    "print('Total image count:',image_count)\n",
    "print('Image count equal to dataframe length?', image_count == len(df))"
   ]
  },
  {
   "cell_type": "code",
   "execution_count": 8,
   "id": "af484362-701b-44d4-95c9-ab8974cbddbb",
   "metadata": {
    "execution": {
     "iopub.execute_input": "2024-03-18T23:21:05.180834Z",
     "iopub.status.busy": "2024-03-18T23:21:05.180747Z",
     "iopub.status.idle": "2024-03-18T23:21:05.182651Z",
     "shell.execute_reply": "2024-03-18T23:21:05.182419Z"
    },
    "papermill": {
     "duration": 0.004228,
     "end_time": "2024-03-18T23:21:05.183396",
     "exception": false,
     "start_time": "2024-03-18T23:21:05.179168",
     "status": "completed"
    },
    "tags": []
   },
   "outputs": [
    {
     "name": "stdout",
     "output_type": "stream",
     "text": [
      "Number of training samples: 201\n",
      "Number of validation samples: 65\n",
      "Number of test samples: 22\n"
     ]
    }
   ],
   "source": [
    "num_train_samples = len(train_df)\n",
    "num_val_samples = len(val_df)\n",
    "num_test_samples = len(test_df)\n",
    "print('Number of training samples:',num_train_samples)\n",
    "print('Number of validation samples:',num_val_samples)\n",
    "print('Number of test samples:',num_test_samples)"
   ]
  },
  {
   "cell_type": "markdown",
   "id": "e5ec3475-76b5-41c7-a00a-b9b1b6027ce0",
   "metadata": {
    "papermill": {
     "duration": 0.001317,
     "end_time": "2024-03-18T23:21:05.186034",
     "exception": false,
     "start_time": "2024-03-18T23:21:05.184717",
     "status": "completed"
    },
    "tags": []
   },
   "source": [
    "---"
   ]
  },
  {
   "cell_type": "markdown",
   "id": "79cbb8e7-08f9-402d-95b6-141bf85f49d6",
   "metadata": {
    "papermill": {
     "duration": 0.001255,
     "end_time": "2024-03-18T23:21:05.188652",
     "exception": false,
     "start_time": "2024-03-18T23:21:05.187397",
     "status": "completed"
    },
    "tags": []
   },
   "source": [
    "## Hyperparameter Grid"
   ]
  },
  {
   "cell_type": "code",
   "execution_count": 9,
   "id": "003b3bff-171b-478f-bf38-ebeed80239af",
   "metadata": {
    "execution": {
     "iopub.execute_input": "2024-03-18T23:21:05.191648Z",
     "iopub.status.busy": "2024-03-18T23:21:05.191547Z",
     "iopub.status.idle": "2024-03-18T23:21:05.193907Z",
     "shell.execute_reply": "2024-03-18T23:21:05.193682Z"
    },
    "papermill": {
     "duration": 0.004731,
     "end_time": "2024-03-18T23:21:05.194629",
     "exception": false,
     "start_time": "2024-03-18T23:21:05.189898",
     "status": "completed"
    },
    "tags": []
   },
   "outputs": [],
   "source": [
    "g_batch_size = [4, 8]\n",
    "g_epochs = [20]\n",
    "g_augmentation_params = [\n",
    "    # either None or (flip, rotate_factor, zoom_factor, random_flip_str)\n",
    "    None,\n",
    "    (True, 0.25, 0.25, 'horizontal'),\n",
    "]\n",
    "g_cnn_params = [\n",
    "    # cnn_units, cnn_filters, cnn_strides\n",
    "    [(32,), [(3,3)], [(1,1)]],\n",
    "    [(32, 64), [(5,5), (3,3)], [(2,2), (1,1)]],\n",
    "]\n",
    "g_dropout = [0, 0.5]\n",
    "g_dense_units = [\n",
    "    (32, 3),\n",
    "    (64, 3),\n",
    "]\n",
    "g_activation = ['relu']\n",
    "g_optimizer = [Adam]\n",
    "g_earlystop_patience = [5, 10]\n",
    "g_reducel_patience = [1]"
   ]
  },
  {
   "cell_type": "code",
   "execution_count": 10,
   "id": "891b3364-90ab-40f2-852c-abd11a197f23",
   "metadata": {
    "execution": {
     "iopub.execute_input": "2024-03-18T23:21:05.197715Z",
     "iopub.status.busy": "2024-03-18T23:21:05.197617Z",
     "iopub.status.idle": "2024-03-18T23:21:05.199418Z",
     "shell.execute_reply": "2024-03-18T23:21:05.199189Z"
    },
    "papermill": {
     "duration": 0.004207,
     "end_time": "2024-03-18T23:21:05.200215",
     "exception": false,
     "start_time": "2024-03-18T23:21:05.196008",
     "status": "completed"
    },
    "tags": []
   },
   "outputs": [
    {
     "name": "stdout",
     "output_type": "stream",
     "text": [
      "There are 64 parameter combinations to run.\n"
     ]
    }
   ],
   "source": [
    "all_combinations = list(product(g_batch_size, g_epochs, g_augmentation_params, g_cnn_params, g_dropout,\n",
    "                                g_dense_units, g_activation, g_optimizer, g_earlystop_patience, g_reducel_patience))\n",
    "print(f'There are {len(all_combinations)} parameter combinations to run.')"
   ]
  },
  {
   "cell_type": "code",
   "execution_count": 11,
   "id": "1c4d30ba-a824-4426-a083-77b4a53ff784",
   "metadata": {
    "execution": {
     "iopub.execute_input": "2024-03-18T23:21:05.203403Z",
     "iopub.status.busy": "2024-03-18T23:21:05.203313Z",
     "iopub.status.idle": "2024-03-18T23:21:05.208608Z",
     "shell.execute_reply": "2024-03-18T23:21:05.208383Z"
    },
    "papermill": {
     "duration": 0.007824,
     "end_time": "2024-03-18T23:21:05.209425",
     "exception": false,
     "start_time": "2024-03-18T23:21:05.201601",
     "status": "completed"
    },
    "tags": []
   },
   "outputs": [
    {
     "name": "stdout",
     "output_type": "stream",
     "text": [
      "Creating new progress file.\n"
     ]
    }
   ],
   "source": [
    "# Keep track of model fitting in order to resume at a later time if needed.\n",
    "progress_file = f'./model_checkpoints_{FITTING_BATCH_NUM}/model_building_progress.csv'\n",
    "os.makedirs(f'./model_checkpoints_{FITTING_BATCH_NUM}/', exist_ok=True)\n",
    "if os.path.exists(progress_file):\n",
    "    print('Using existing progress file.')\n",
    "    progress = pd.read_csv(progress_file)\n",
    "else:\n",
    "    print('Creating new progress file.')\n",
    "    progress = pd.DataFrame.from_records(all_combinations, columns=['batch_size', 'epochs', 'augmentation_params', 'cnn_params',\n",
    "                                                                    'dropout', 'dense_units', 'activation', 'optimizer',\n",
    "                                                                    'earlystop_patience', 'reducel_patience'])\n",
    "    progress.insert(0, 'model', range(len(all_combinations)))\n",
    "    progress['finished'] = False\n",
    "    class_names = '(Adam|RMSprop)'\n",
    "    progress['optimizer'] = progress['optimizer'].apply(lambda x: re.sub(f'.*{class_names}.*','\\\\1',str(x)))\n",
    "    \n",
    "    progress.to_csv(progress_file, index=False)\n",
    "    progress = pd.read_csv(progress_file)"
   ]
  },
  {
   "cell_type": "code",
   "execution_count": 12,
   "id": "35b58bd8-6527-46e1-a0ff-98a5256c93bb",
   "metadata": {
    "execution": {
     "iopub.execute_input": "2024-03-18T23:21:05.212637Z",
     "iopub.status.busy": "2024-03-18T23:21:05.212542Z",
     "iopub.status.idle": "2024-03-18T23:21:05.219408Z",
     "shell.execute_reply": "2024-03-18T23:21:05.219156Z"
    },
    "papermill": {
     "duration": 0.009402,
     "end_time": "2024-03-18T23:21:05.220237",
     "exception": false,
     "start_time": "2024-03-18T23:21:05.210835",
     "status": "completed"
    },
    "tags": []
   },
   "outputs": [
    {
     "data": {
      "text/html": [
       "<div>\n",
       "<style scoped>\n",
       "    .dataframe tbody tr th:only-of-type {\n",
       "        vertical-align: middle;\n",
       "    }\n",
       "\n",
       "    .dataframe tbody tr th {\n",
       "        vertical-align: top;\n",
       "    }\n",
       "\n",
       "    .dataframe thead th {\n",
       "        text-align: right;\n",
       "    }\n",
       "</style>\n",
       "<table border=\"1\" class=\"dataframe\">\n",
       "  <thead>\n",
       "    <tr style=\"text-align: right;\">\n",
       "      <th></th>\n",
       "      <th>model</th>\n",
       "      <th>batch_size</th>\n",
       "      <th>epochs</th>\n",
       "      <th>augmentation_params</th>\n",
       "      <th>cnn_params</th>\n",
       "      <th>dropout</th>\n",
       "      <th>dense_units</th>\n",
       "      <th>activation</th>\n",
       "      <th>optimizer</th>\n",
       "      <th>earlystop_patience</th>\n",
       "      <th>reducel_patience</th>\n",
       "      <th>finished</th>\n",
       "    </tr>\n",
       "  </thead>\n",
       "  <tbody>\n",
       "    <tr>\n",
       "      <th>0</th>\n",
       "      <td>0</td>\n",
       "      <td>4</td>\n",
       "      <td>20</td>\n",
       "      <td>NaN</td>\n",
       "      <td>[(32,), [(3, 3)], [(1, 1)]]</td>\n",
       "      <td>0.0</td>\n",
       "      <td>(32, 3)</td>\n",
       "      <td>relu</td>\n",
       "      <td>Adam</td>\n",
       "      <td>5</td>\n",
       "      <td>1</td>\n",
       "      <td>False</td>\n",
       "    </tr>\n",
       "    <tr>\n",
       "      <th>1</th>\n",
       "      <td>1</td>\n",
       "      <td>4</td>\n",
       "      <td>20</td>\n",
       "      <td>NaN</td>\n",
       "      <td>[(32,), [(3, 3)], [(1, 1)]]</td>\n",
       "      <td>0.0</td>\n",
       "      <td>(32, 3)</td>\n",
       "      <td>relu</td>\n",
       "      <td>Adam</td>\n",
       "      <td>10</td>\n",
       "      <td>1</td>\n",
       "      <td>False</td>\n",
       "    </tr>\n",
       "    <tr>\n",
       "      <th>2</th>\n",
       "      <td>2</td>\n",
       "      <td>4</td>\n",
       "      <td>20</td>\n",
       "      <td>NaN</td>\n",
       "      <td>[(32,), [(3, 3)], [(1, 1)]]</td>\n",
       "      <td>0.0</td>\n",
       "      <td>(64, 3)</td>\n",
       "      <td>relu</td>\n",
       "      <td>Adam</td>\n",
       "      <td>5</td>\n",
       "      <td>1</td>\n",
       "      <td>False</td>\n",
       "    </tr>\n",
       "    <tr>\n",
       "      <th>3</th>\n",
       "      <td>3</td>\n",
       "      <td>4</td>\n",
       "      <td>20</td>\n",
       "      <td>NaN</td>\n",
       "      <td>[(32,), [(3, 3)], [(1, 1)]]</td>\n",
       "      <td>0.0</td>\n",
       "      <td>(64, 3)</td>\n",
       "      <td>relu</td>\n",
       "      <td>Adam</td>\n",
       "      <td>10</td>\n",
       "      <td>1</td>\n",
       "      <td>False</td>\n",
       "    </tr>\n",
       "    <tr>\n",
       "      <th>4</th>\n",
       "      <td>4</td>\n",
       "      <td>4</td>\n",
       "      <td>20</td>\n",
       "      <td>NaN</td>\n",
       "      <td>[(32,), [(3, 3)], [(1, 1)]]</td>\n",
       "      <td>0.5</td>\n",
       "      <td>(32, 3)</td>\n",
       "      <td>relu</td>\n",
       "      <td>Adam</td>\n",
       "      <td>5</td>\n",
       "      <td>1</td>\n",
       "      <td>False</td>\n",
       "    </tr>\n",
       "    <tr>\n",
       "      <th>...</th>\n",
       "      <td>...</td>\n",
       "      <td>...</td>\n",
       "      <td>...</td>\n",
       "      <td>...</td>\n",
       "      <td>...</td>\n",
       "      <td>...</td>\n",
       "      <td>...</td>\n",
       "      <td>...</td>\n",
       "      <td>...</td>\n",
       "      <td>...</td>\n",
       "      <td>...</td>\n",
       "      <td>...</td>\n",
       "    </tr>\n",
       "    <tr>\n",
       "      <th>59</th>\n",
       "      <td>59</td>\n",
       "      <td>8</td>\n",
       "      <td>20</td>\n",
       "      <td>(True, 0.25, 0.25, 'horizontal')</td>\n",
       "      <td>[(32, 64), [(5, 5), (3, 3)], [(2, 2), (1, 1)]]</td>\n",
       "      <td>0.0</td>\n",
       "      <td>(64, 3)</td>\n",
       "      <td>relu</td>\n",
       "      <td>Adam</td>\n",
       "      <td>10</td>\n",
       "      <td>1</td>\n",
       "      <td>False</td>\n",
       "    </tr>\n",
       "    <tr>\n",
       "      <th>60</th>\n",
       "      <td>60</td>\n",
       "      <td>8</td>\n",
       "      <td>20</td>\n",
       "      <td>(True, 0.25, 0.25, 'horizontal')</td>\n",
       "      <td>[(32, 64), [(5, 5), (3, 3)], [(2, 2), (1, 1)]]</td>\n",
       "      <td>0.5</td>\n",
       "      <td>(32, 3)</td>\n",
       "      <td>relu</td>\n",
       "      <td>Adam</td>\n",
       "      <td>5</td>\n",
       "      <td>1</td>\n",
       "      <td>False</td>\n",
       "    </tr>\n",
       "    <tr>\n",
       "      <th>61</th>\n",
       "      <td>61</td>\n",
       "      <td>8</td>\n",
       "      <td>20</td>\n",
       "      <td>(True, 0.25, 0.25, 'horizontal')</td>\n",
       "      <td>[(32, 64), [(5, 5), (3, 3)], [(2, 2), (1, 1)]]</td>\n",
       "      <td>0.5</td>\n",
       "      <td>(32, 3)</td>\n",
       "      <td>relu</td>\n",
       "      <td>Adam</td>\n",
       "      <td>10</td>\n",
       "      <td>1</td>\n",
       "      <td>False</td>\n",
       "    </tr>\n",
       "    <tr>\n",
       "      <th>62</th>\n",
       "      <td>62</td>\n",
       "      <td>8</td>\n",
       "      <td>20</td>\n",
       "      <td>(True, 0.25, 0.25, 'horizontal')</td>\n",
       "      <td>[(32, 64), [(5, 5), (3, 3)], [(2, 2), (1, 1)]]</td>\n",
       "      <td>0.5</td>\n",
       "      <td>(64, 3)</td>\n",
       "      <td>relu</td>\n",
       "      <td>Adam</td>\n",
       "      <td>5</td>\n",
       "      <td>1</td>\n",
       "      <td>False</td>\n",
       "    </tr>\n",
       "    <tr>\n",
       "      <th>63</th>\n",
       "      <td>63</td>\n",
       "      <td>8</td>\n",
       "      <td>20</td>\n",
       "      <td>(True, 0.25, 0.25, 'horizontal')</td>\n",
       "      <td>[(32, 64), [(5, 5), (3, 3)], [(2, 2), (1, 1)]]</td>\n",
       "      <td>0.5</td>\n",
       "      <td>(64, 3)</td>\n",
       "      <td>relu</td>\n",
       "      <td>Adam</td>\n",
       "      <td>10</td>\n",
       "      <td>1</td>\n",
       "      <td>False</td>\n",
       "    </tr>\n",
       "  </tbody>\n",
       "</table>\n",
       "<p>64 rows × 12 columns</p>\n",
       "</div>"
      ],
      "text/plain": [
       "    model  batch_size  epochs               augmentation_params  \\\n",
       "0       0           4      20                               NaN   \n",
       "1       1           4      20                               NaN   \n",
       "2       2           4      20                               NaN   \n",
       "3       3           4      20                               NaN   \n",
       "4       4           4      20                               NaN   \n",
       "..    ...         ...     ...                               ...   \n",
       "59     59           8      20  (True, 0.25, 0.25, 'horizontal')   \n",
       "60     60           8      20  (True, 0.25, 0.25, 'horizontal')   \n",
       "61     61           8      20  (True, 0.25, 0.25, 'horizontal')   \n",
       "62     62           8      20  (True, 0.25, 0.25, 'horizontal')   \n",
       "63     63           8      20  (True, 0.25, 0.25, 'horizontal')   \n",
       "\n",
       "                                        cnn_params  dropout dense_units  \\\n",
       "0                      [(32,), [(3, 3)], [(1, 1)]]      0.0     (32, 3)   \n",
       "1                      [(32,), [(3, 3)], [(1, 1)]]      0.0     (32, 3)   \n",
       "2                      [(32,), [(3, 3)], [(1, 1)]]      0.0     (64, 3)   \n",
       "3                      [(32,), [(3, 3)], [(1, 1)]]      0.0     (64, 3)   \n",
       "4                      [(32,), [(3, 3)], [(1, 1)]]      0.5     (32, 3)   \n",
       "..                                             ...      ...         ...   \n",
       "59  [(32, 64), [(5, 5), (3, 3)], [(2, 2), (1, 1)]]      0.0     (64, 3)   \n",
       "60  [(32, 64), [(5, 5), (3, 3)], [(2, 2), (1, 1)]]      0.5     (32, 3)   \n",
       "61  [(32, 64), [(5, 5), (3, 3)], [(2, 2), (1, 1)]]      0.5     (32, 3)   \n",
       "62  [(32, 64), [(5, 5), (3, 3)], [(2, 2), (1, 1)]]      0.5     (64, 3)   \n",
       "63  [(32, 64), [(5, 5), (3, 3)], [(2, 2), (1, 1)]]      0.5     (64, 3)   \n",
       "\n",
       "   activation optimizer  earlystop_patience  reducel_patience  finished  \n",
       "0        relu      Adam                   5                 1     False  \n",
       "1        relu      Adam                  10                 1     False  \n",
       "2        relu      Adam                   5                 1     False  \n",
       "3        relu      Adam                  10                 1     False  \n",
       "4        relu      Adam                   5                 1     False  \n",
       "..        ...       ...                 ...               ...       ...  \n",
       "59       relu      Adam                  10                 1     False  \n",
       "60       relu      Adam                   5                 1     False  \n",
       "61       relu      Adam                  10                 1     False  \n",
       "62       relu      Adam                   5                 1     False  \n",
       "63       relu      Adam                  10                 1     False  \n",
       "\n",
       "[64 rows x 12 columns]"
      ]
     },
     "metadata": {},
     "output_type": "display_data"
    }
   ],
   "source": [
    "display(progress)"
   ]
  },
  {
   "cell_type": "markdown",
   "id": "849c891f-882a-467d-90c9-b6877c476959",
   "metadata": {
    "papermill": {
     "duration": 0.001495,
     "end_time": "2024-03-18T23:21:05.223346",
     "exception": false,
     "start_time": "2024-03-18T23:21:05.221851",
     "status": "completed"
    },
    "tags": []
   },
   "source": [
    "---"
   ]
  },
  {
   "cell_type": "markdown",
   "id": "03e5db2a-8f10-458e-9f95-594507365306",
   "metadata": {
    "papermill": {
     "duration": 0.001466,
     "end_time": "2024-03-18T23:21:05.226282",
     "exception": false,
     "start_time": "2024-03-18T23:21:05.224816",
     "status": "completed"
    },
    "tags": []
   },
   "source": [
    "## Fit Models"
   ]
  },
  {
   "cell_type": "code",
   "execution_count": 13,
   "id": "160132fe-c34d-4876-b86f-48bdb93a6bf3",
   "metadata": {
    "execution": {
     "iopub.execute_input": "2024-03-18T23:21:05.229876Z",
     "iopub.status.busy": "2024-03-18T23:21:05.229738Z",
     "iopub.status.idle": "2024-03-19T00:02:13.799483Z",
     "shell.execute_reply": "2024-03-19T00:02:13.798711Z"
    },
    "papermill": {
     "duration": 2468.57518,
     "end_time": "2024-03-19T00:02:13.802936",
     "exception": false,
     "start_time": "2024-03-18T23:21:05.227756",
     "status": "completed"
    },
    "tags": []
   },
   "outputs": [
    {
     "name": "stdout",
     "output_type": "stream",
     "text": [
      "Model 0: validation accuracy= 0.7231, ran epochs= 18, best epoch= 13, time=1.34min.\n"
     ]
    },
    {
     "name": "stdout",
     "output_type": "stream",
     "text": [
      "Model 1: validation accuracy= 0.7231, ran epochs= 20, best epoch= 13, time=1.46min.\n"
     ]
    },
    {
     "name": "stdout",
     "output_type": "stream",
     "text": [
      "Model 2: validation accuracy= 0.8000, ran epochs= 16, best epoch= 11, time=1.38min.\n"
     ]
    },
    {
     "name": "stdout",
     "output_type": "stream",
     "text": [
      "Model 3: validation accuracy= 0.8000, ran epochs= 20, best epoch= 11, time=1.69min.\n"
     ]
    },
    {
     "name": "stdout",
     "output_type": "stream",
     "text": [
      "Model 4: validation accuracy= 0.6000, ran epochs= 12, best epoch= 7, time=0.87min.\n"
     ]
    },
    {
     "name": "stdout",
     "output_type": "stream",
     "text": [
      "Model 5: validation accuracy= 0.6000, ran epochs= 17, best epoch= 7, time=1.21min.\n"
     ]
    },
    {
     "name": "stdout",
     "output_type": "stream",
     "text": [
      "Model 6: validation accuracy= 0.6000, ran epochs= 8, best epoch= 3, time=0.70min.\n"
     ]
    },
    {
     "name": "stdout",
     "output_type": "stream",
     "text": [
      "Model 7: validation accuracy= 0.6000, ran epochs= 13, best epoch= 3, time=1.09min.\n"
     ]
    },
    {
     "name": "stdout",
     "output_type": "stream",
     "text": [
      "Model 8: validation accuracy= 0.6923, ran epochs= 20, best epoch= 17, time=0.38min.\n"
     ]
    },
    {
     "name": "stdout",
     "output_type": "stream",
     "text": [
      "Model 9: validation accuracy= 0.6923, ran epochs= 20, best epoch= 17, time=0.38min.\n"
     ]
    },
    {
     "name": "stdout",
     "output_type": "stream",
     "text": [
      "Model 10: validation accuracy= 0.6923, ran epochs= 18, best epoch= 13, time=0.35min.\n"
     ]
    },
    {
     "name": "stdout",
     "output_type": "stream",
     "text": [
      "Model 11: validation accuracy= 0.6923, ran epochs= 20, best epoch= 13, time=0.37min.\n"
     ]
    },
    {
     "name": "stdout",
     "output_type": "stream",
     "text": [
      "Model 12: validation accuracy= 0.3538, ran epochs= 6, best epoch= 1, time=0.11min.\n"
     ]
    },
    {
     "name": "stdout",
     "output_type": "stream",
     "text": [
      "Model 13: validation accuracy= 0.5538, ran epochs= 20, best epoch= 14, time=0.35min.\n"
     ]
    },
    {
     "name": "stdout",
     "output_type": "stream",
     "text": [
      "Model 14: validation accuracy= 0.3231, ran epochs= 6, best epoch= 1, time=0.11min.\n"
     ]
    },
    {
     "name": "stdout",
     "output_type": "stream",
     "text": [
      "Model 15: validation accuracy= 0.5231, ran epochs= 20, best epoch= 12, time=0.36min.\n"
     ]
    },
    {
     "name": "stdout",
     "output_type": "stream",
     "text": [
      "Model 16: validation accuracy= 0.7077, ran epochs= 16, best epoch= 11, time=1.43min.\n"
     ]
    },
    {
     "name": "stdout",
     "output_type": "stream",
     "text": [
      "Model 17: validation accuracy= 0.7385, ran epochs= 20, best epoch= 16, time=1.77min.\n"
     ]
    },
    {
     "name": "stdout",
     "output_type": "stream",
     "text": [
      "Model 18: validation accuracy= 0.7538, ran epochs= 20, best epoch= 17, time=2.04min.\n"
     ]
    },
    {
     "name": "stdout",
     "output_type": "stream",
     "text": [
      "Model 19: validation accuracy= 0.7538, ran epochs= 20, best epoch= 17, time=2.04min.\n"
     ]
    },
    {
     "name": "stdout",
     "output_type": "stream",
     "text": [
      "Model 20: validation accuracy= 0.5231, ran epochs= 6, best epoch= 1, time=0.53min.\n"
     ]
    },
    {
     "name": "stdout",
     "output_type": "stream",
     "text": [
      "Model 21: validation accuracy= 0.5231, ran epochs= 11, best epoch= 1, time=0.94min.\n"
     ]
    },
    {
     "name": "stdout",
     "output_type": "stream",
     "text": [
      "Model 22: validation accuracy= 0.4308, ran epochs= 6, best epoch= 1, time=0.59min.\n"
     ]
    },
    {
     "name": "stdout",
     "output_type": "stream",
     "text": [
      "Model 23: validation accuracy= 0.5231, ran epochs= 20, best epoch= 15, time=1.96min.\n"
     ]
    },
    {
     "name": "stdout",
     "output_type": "stream",
     "text": [
      "Model 24: validation accuracy= 0.3538, ran epochs= 6, best epoch= 1, time=0.22min.\n"
     ]
    },
    {
     "name": "stdout",
     "output_type": "stream",
     "text": [
      "Model 25: validation accuracy= 0.6000, ran epochs= 20, best epoch= 14, time=0.75min.\n"
     ]
    },
    {
     "name": "stdout",
     "output_type": "stream",
     "text": [
      "Model 26: validation accuracy= 0.3231, ran epochs= 6, best epoch= 1, time=0.22min.\n"
     ]
    },
    {
     "name": "stdout",
     "output_type": "stream",
     "text": [
      "Model 27: validation accuracy= 0.5385, ran epochs= 20, best epoch= 15, time=0.72min.\n"
     ]
    },
    {
     "name": "stdout",
     "output_type": "stream",
     "text": [
      "Model 28: validation accuracy= 0.3385, ran epochs= 7, best epoch= 2, time=0.27min.\n"
     ]
    },
    {
     "name": "stdout",
     "output_type": "stream",
     "text": [
      "Model 29: validation accuracy= 0.5385, ran epochs= 20, best epoch= 13, time=0.75min.\n"
     ]
    },
    {
     "name": "stdout",
     "output_type": "stream",
     "text": [
      "Model 30: validation accuracy= 0.3231, ran epochs= 6, best epoch= 1, time=0.23min.\n"
     ]
    },
    {
     "name": "stdout",
     "output_type": "stream",
     "text": [
      "Model 31: validation accuracy= 0.4154, ran epochs= 20, best epoch= 15, time=0.69min.\n"
     ]
    },
    {
     "name": "stdout",
     "output_type": "stream",
     "text": [
      "Model 32: validation accuracy= 0.5231, ran epochs= 6, best epoch= 1, time=0.30min.\n"
     ]
    },
    {
     "name": "stdout",
     "output_type": "stream",
     "text": [
      "Model 33: validation accuracy= 0.5231, ran epochs= 11, best epoch= 1, time=0.52min.\n"
     ]
    },
    {
     "name": "stdout",
     "output_type": "stream",
     "text": [
      "Model 34: validation accuracy= 0.3231, ran epochs= 6, best epoch= 1, time=0.34min.\n"
     ]
    },
    {
     "name": "stdout",
     "output_type": "stream",
     "text": [
      "Model 35: validation accuracy= 0.7846, ran epochs= 20, best epoch= 20, time=1.24min.\n"
     ]
    },
    {
     "name": "stdout",
     "output_type": "stream",
     "text": [
      "Model 36: validation accuracy= 0.5385, ran epochs= 6, best epoch= 1, time=0.31min.\n"
     ]
    },
    {
     "name": "stdout",
     "output_type": "stream",
     "text": [
      "Model 37: validation accuracy= 0.5385, ran epochs= 11, best epoch= 1, time=0.53min.\n"
     ]
    },
    {
     "name": "stdout",
     "output_type": "stream",
     "text": [
      "Model 38: validation accuracy= 0.4308, ran epochs= 6, best epoch= 1, time=0.34min.\n"
     ]
    },
    {
     "name": "stdout",
     "output_type": "stream",
     "text": [
      "Model 39: validation accuracy= 0.4308, ran epochs= 11, best epoch= 1, time=0.59min.\n"
     ]
    },
    {
     "name": "stdout",
     "output_type": "stream",
     "text": [
      "Model 40: validation accuracy= 0.3231, ran epochs= 8, best epoch= 3, time=0.13min.\n"
     ]
    },
    {
     "name": "stdout",
     "output_type": "stream",
     "text": [
      "Model 41: validation accuracy= 0.6615, ran epochs= 20, best epoch= 20, time=0.32min.\n"
     ]
    },
    {
     "name": "stdout",
     "output_type": "stream",
     "text": [
      "Model 42: validation accuracy= 0.3231, ran epochs= 6, best epoch= 1, time=0.09min.\n"
     ]
    },
    {
     "name": "stdout",
     "output_type": "stream",
     "text": [
      "Model 43: validation accuracy= 0.5538, ran epochs= 20, best epoch= 20, time=0.33min.\n"
     ]
    },
    {
     "name": "stdout",
     "output_type": "stream",
     "text": [
      "Model 44: validation accuracy= 0.3538, ran epochs= 6, best epoch= 1, time=0.10min.\n"
     ]
    },
    {
     "name": "stdout",
     "output_type": "stream",
     "text": [
      "Model 45: validation accuracy= 0.3538, ran epochs= 11, best epoch= 1, time=0.15min.\n"
     ]
    },
    {
     "name": "stdout",
     "output_type": "stream",
     "text": [
      "Model 46: validation accuracy= 0.3231, ran epochs= 6, best epoch= 1, time=0.10min.\n"
     ]
    },
    {
     "name": "stdout",
     "output_type": "stream",
     "text": [
      "Model 47: validation accuracy= 0.3231, ran epochs= 11, best epoch= 1, time=0.15min.\n"
     ]
    },
    {
     "name": "stdout",
     "output_type": "stream",
     "text": [
      "Model 48: validation accuracy= 0.3231, ran epochs= 6, best epoch= 1, time=0.38min.\n"
     ]
    },
    {
     "name": "stdout",
     "output_type": "stream",
     "text": [
      "Model 49: validation accuracy= 0.6000, ran epochs= 20, best epoch= 11, time=1.25min.\n"
     ]
    },
    {
     "name": "stdout",
     "output_type": "stream",
     "text": [
      "Model 50: validation accuracy= 0.4462, ran epochs= 6, best epoch= 1, time=0.41min.\n"
     ]
    },
    {
     "name": "stdout",
     "output_type": "stream",
     "text": [
      "Model 51: validation accuracy= 0.4462, ran epochs= 11, best epoch= 1, time=0.71min.\n"
     ]
    },
    {
     "name": "stdout",
     "output_type": "stream",
     "text": [
      "Model 52: validation accuracy= 0.5846, ran epochs= 8, best epoch= 3, time=0.54min.\n"
     ]
    },
    {
     "name": "stdout",
     "output_type": "stream",
     "text": [
      "Model 53: validation accuracy= 0.5846, ran epochs= 13, best epoch= 3, time=0.81min.\n"
     ]
    },
    {
     "name": "stdout",
     "output_type": "stream",
     "text": [
      "Model 54: validation accuracy= 0.4923, ran epochs= 6, best epoch= 1, time=0.42min.\n"
     ]
    },
    {
     "name": "stdout",
     "output_type": "stream",
     "text": [
      "Model 55: validation accuracy= 0.4923, ran epochs= 11, best epoch= 1, time=0.72min.\n"
     ]
    },
    {
     "name": "stdout",
     "output_type": "stream",
     "text": [
      "Model 56: validation accuracy= 0.3385, ran epochs= 6, best epoch= 1, time=0.18min.\n"
     ]
    },
    {
     "name": "stdout",
     "output_type": "stream",
     "text": [
      "Model 57: validation accuracy= 0.3385, ran epochs= 11, best epoch= 1, time=0.28min.\n"
     ]
    },
    {
     "name": "stdout",
     "output_type": "stream",
     "text": [
      "Model 58: validation accuracy= 0.3231, ran epochs= 6, best epoch= 1, time=0.17min.\n"
     ]
    },
    {
     "name": "stdout",
     "output_type": "stream",
     "text": [
      "Model 59: validation accuracy= 0.3231, ran epochs= 11, best epoch= 1, time=0.28min.\n"
     ]
    },
    {
     "name": "stdout",
     "output_type": "stream",
     "text": [
      "Model 60: validation accuracy= 0.3385, ran epochs= 6, best epoch= 1, time=0.18min.\n"
     ]
    },
    {
     "name": "stdout",
     "output_type": "stream",
     "text": [
      "Model 61: validation accuracy= 0.3385, ran epochs= 11, best epoch= 1, time=0.29min.\n"
     ]
    },
    {
     "name": "stdout",
     "output_type": "stream",
     "text": [
      "Model 62: validation accuracy= 0.3231, ran epochs= 7, best epoch= 2, time=0.22min.\n"
     ]
    },
    {
     "name": "stdout",
     "output_type": "stream",
     "text": [
      "Model 63: validation accuracy= 0.3385, ran epochs= 20, best epoch= 12, time=0.51min.\n"
     ]
    }
   ],
   "source": [
    "os.makedirs(f'./model_checkpoints_{FITTING_BATCH_NUM}/val_metrics', exist_ok=True)\n",
    "os.makedirs(f'./model_checkpoints_{FITTING_BATCH_NUM}/model_histories', exist_ok=True)\n",
    "top_val_acc = dict()\n",
    "models = []\n",
    "for i, params in enumerate(all_combinations):\n",
    "    if progress.at[i, 'finished']:\n",
    "        print(f'Model {i} has already been fitted.')\n",
    "    else:\n",
    "        try:\n",
    "            val_metrics = create_fit_and_save_model(f'model{i}', train_df, val_df, test_df, params, FITTING_BATCH_NUM)\n",
    "            progress.at[i, 'finished'] = True\n",
    "            progress.to_csv(progress_file, index=False)\n",
    "            print(f\"\"\"Model {i}: validation accuracy= {val_metrics['accuracy']:.4f}, ran epochs= {val_metrics['ran_epochs']}, best epoch= {val_metrics['best_epoch']}, time={val_metrics['total_time']/60:.2f}min.\"\"\")\n",
    "            \n",
    "            update_top_values(top_val_acc, val_metrics['accuracy'], i, FITTING_BATCH_NUM)\n",
    "                \n",
    "        except:\n",
    "            print(f'ERROR fitting model {i}')"
   ]
  },
  {
   "cell_type": "code",
   "execution_count": 14,
   "id": "c627a5df-a8e8-4958-90a7-fd42dc50b1a2",
   "metadata": {
    "execution": {
     "iopub.execute_input": "2024-03-19T00:02:13.810576Z",
     "iopub.status.busy": "2024-03-19T00:02:13.810443Z",
     "iopub.status.idle": "2024-03-19T00:02:14.295002Z",
     "shell.execute_reply": "2024-03-19T00:02:14.294058Z"
    },
    "papermill": {
     "duration": 0.490732,
     "end_time": "2024-03-19T00:02:14.297203",
     "exception": false,
     "start_time": "2024-03-19T00:02:13.806471",
     "status": "completed"
    },
    "tags": []
   },
   "outputs": [
    {
     "name": "stdout",
     "output_type": "stream",
     "text": [
      "Notification sent\n"
     ]
    }
   ],
   "source": [
    "send_ifttt_notification('finished')"
   ]
  },
  {
   "cell_type": "markdown",
   "id": "b789fa1f-b388-475d-a25d-4b905729fb5b",
   "metadata": {
    "papermill": {
     "duration": 0.005706,
     "end_time": "2024-03-19T00:02:14.309904",
     "exception": false,
     "start_time": "2024-03-19T00:02:14.304198",
     "status": "completed"
    },
    "tags": []
   },
   "source": [
    "---"
   ]
  }
 ],
 "metadata": {
  "kernelspec": {
   "display_name": "Python 3 (ipykernel)",
   "language": "python",
   "name": "python3"
  },
  "language_info": {
   "codemirror_mode": {
    "name": "ipython",
    "version": 3
   },
   "file_extension": ".py",
   "mimetype": "text/x-python",
   "name": "python",
   "nbconvert_exporter": "python",
   "pygments_lexer": "ipython3",
   "version": "3.10.8"
  },
  "papermill": {
   "default_parameters": {},
   "duration": 2473.405432,
   "end_time": "2024-03-19T00:02:15.658550",
   "environment_variables": {},
   "exception": null,
   "input_path": "./Multi_Model_Building_(Batch_1).ipynb",
   "output_path": "./trained_notebooks/Multi_Model_Building_(Batch_1)_trained.ipynb",
   "parameters": {},
   "start_time": "2024-03-18T23:21:02.253118",
   "version": "2.5.0"
  }
 },
 "nbformat": 4,
 "nbformat_minor": 5
}