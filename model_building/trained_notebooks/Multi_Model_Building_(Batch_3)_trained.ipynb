{
 "cells": [
  {
   "cell_type": "markdown",
   "id": "599b29ae-8410-4898-adf5-46e1eb00c510",
   "metadata": {
    "papermill": {
     "duration": 0.002761,
     "end_time": "2024-03-21T01:15:40.901086",
     "exception": false,
     "start_time": "2024-03-21T01:15:40.898325",
     "status": "completed"
    },
    "tags": []
   },
   "source": [
    "# Multi Model Building (Batch 3)"
   ]
  },
  {
   "cell_type": "code",
   "execution_count": 1,
   "id": "3fb8c581-0dca-44d5-b57b-fc001f085b4e",
   "metadata": {
    "execution": {
     "iopub.execute_input": "2024-03-21T01:15:40.905635Z",
     "iopub.status.busy": "2024-03-21T01:15:40.905450Z",
     "iopub.status.idle": "2024-03-21T01:15:40.910577Z",
     "shell.execute_reply": "2024-03-21T01:15:40.910227Z"
    },
    "papermill": {
     "duration": 0.008698,
     "end_time": "2024-03-21T01:15:40.911830",
     "exception": false,
     "start_time": "2024-03-21T01:15:40.903132",
     "status": "completed"
    },
    "tags": []
   },
   "outputs": [],
   "source": [
    "FITTING_BATCH_NUM = 3"
   ]
  },
  {
   "cell_type": "code",
   "execution_count": 2,
   "id": "0fb845fd-8c0e-4dc8-a6c4-bc6fe6bfc21e",
   "metadata": {
    "execution": {
     "iopub.execute_input": "2024-03-21T01:15:40.915772Z",
     "iopub.status.busy": "2024-03-21T01:15:40.915646Z",
     "iopub.status.idle": "2024-03-21T01:15:40.917451Z",
     "shell.execute_reply": "2024-03-21T01:15:40.917178Z"
    },
    "papermill": {
     "duration": 0.004738,
     "end_time": "2024-03-21T01:15:40.918388",
     "exception": false,
     "start_time": "2024-03-21T01:15:40.913650",
     "status": "completed"
    },
    "tags": []
   },
   "outputs": [],
   "source": [
    "# Remove TF logging warnings\n",
    "import os\n",
    "os.environ['TF_CPP_MIN_LOG_LEVEL'] = '3'"
   ]
  },
  {
   "cell_type": "code",
   "execution_count": 3,
   "id": "730093ec-74c7-4ffb-95ac-90c84067364c",
   "metadata": {
    "execution": {
     "iopub.execute_input": "2024-03-21T01:15:40.922002Z",
     "iopub.status.busy": "2024-03-21T01:15:40.921870Z",
     "iopub.status.idle": "2024-03-21T01:15:43.158958Z",
     "shell.execute_reply": "2024-03-21T01:15:43.158679Z"
    },
    "papermill": {
     "duration": 2.240008,
     "end_time": "2024-03-21T01:15:43.159982",
     "exception": false,
     "start_time": "2024-03-21T01:15:40.919974",
     "status": "completed"
    },
    "tags": []
   },
   "outputs": [],
   "source": [
    "import pandas as pd\n",
    "import tensorflow as tf\n",
    "import keras\n",
    "from keras import layers\n",
    "from model_helper_functions import create_fit_and_save_model, send_ifttt_notification, update_top_values\n",
    "from data_pipeline import prep_data, get_train_val_test_data\n",
    "from itertools import product\n",
    "import re\n",
    "import pathlib\n",
    "import shutil\n",
    "\n",
    "# Import correct optimizer\n",
    "import platform\n",
    "if platform.system() == \"Darwin\" and platform.processor() == \"arm\":\n",
    "    from keras.optimizers.legacy import RMSprop, Adam\n",
    "else:\n",
    "    from keras.optimizers import RMSprop, Adam"
   ]
  },
  {
   "cell_type": "code",
   "execution_count": 4,
   "id": "f2fc6bc1-2433-4825-bf61-a1476a67580b",
   "metadata": {
    "execution": {
     "iopub.execute_input": "2024-03-21T01:15:43.163834Z",
     "iopub.status.busy": "2024-03-21T01:15:43.163649Z",
     "iopub.status.idle": "2024-03-21T01:15:43.165319Z",
     "shell.execute_reply": "2024-03-21T01:15:43.165132Z"
    },
    "papermill": {
     "duration": 0.004147,
     "end_time": "2024-03-21T01:15:43.166153",
     "exception": false,
     "start_time": "2024-03-21T01:15:43.162006",
     "status": "completed"
    },
    "tags": []
   },
   "outputs": [],
   "source": [
    "# Remove TF logging warnings\n",
    "tf.get_logger().setLevel('ERROR')"
   ]
  },
  {
   "cell_type": "code",
   "execution_count": 5,
   "id": "feb60aae-abf9-4eaa-98b7-4741064f2c23",
   "metadata": {
    "execution": {
     "iopub.execute_input": "2024-03-21T01:15:43.168953Z",
     "iopub.status.busy": "2024-03-21T01:15:43.168861Z",
     "iopub.status.idle": "2024-03-21T01:15:43.170414Z",
     "shell.execute_reply": "2024-03-21T01:15:43.170208Z"
    },
    "papermill": {
     "duration": 0.003796,
     "end_time": "2024-03-21T01:15:43.171170",
     "exception": false,
     "start_time": "2024-03-21T01:15:43.167374",
     "status": "completed"
    },
    "tags": []
   },
   "outputs": [],
   "source": [
    "tf.random.set_seed(15)\n",
    "keras.utils.set_random_seed(15)"
   ]
  },
  {
   "cell_type": "code",
   "execution_count": 6,
   "id": "1a925ad8-5352-4c36-b2ed-f64a7338e09f",
   "metadata": {
    "execution": {
     "iopub.execute_input": "2024-03-21T01:15:43.174107Z",
     "iopub.status.busy": "2024-03-21T01:15:43.174018Z",
     "iopub.status.idle": "2024-03-21T01:15:43.179378Z",
     "shell.execute_reply": "2024-03-21T01:15:43.179157Z"
    },
    "papermill": {
     "duration": 0.00774,
     "end_time": "2024-03-21T01:15:43.180192",
     "exception": false,
     "start_time": "2024-03-21T01:15:43.172452",
     "status": "completed"
    },
    "tags": []
   },
   "outputs": [
    {
     "name": "stdout",
     "output_type": "stream",
     "text": [
      "Training set: 70%, Validation set: 22.5%, Test set: 7.5%\n"
     ]
    }
   ],
   "source": [
    "data_dir = '../bears'\n",
    "df = prep_data(data_dir)\n",
    "train_df, val_df, test_df = get_train_val_test_data(df)"
   ]
  },
  {
   "cell_type": "code",
   "execution_count": 7,
   "id": "302b53e9-bfa0-4fb2-a114-880d408ae75b",
   "metadata": {
    "execution": {
     "iopub.execute_input": "2024-03-21T01:15:43.183130Z",
     "iopub.status.busy": "2024-03-21T01:15:43.183035Z",
     "iopub.status.idle": "2024-03-21T01:15:43.185483Z",
     "shell.execute_reply": "2024-03-21T01:15:43.185285Z"
    },
    "papermill": {
     "duration": 0.004734,
     "end_time": "2024-03-21T01:15:43.186227",
     "exception": false,
     "start_time": "2024-03-21T01:15:43.181493",
     "status": "completed"
    },
    "tags": []
   },
   "outputs": [
    {
     "name": "stdout",
     "output_type": "stream",
     "text": [
      "Total image count: 288\n",
      "Image count equal to dataframe length? True\n"
     ]
    }
   ],
   "source": [
    "image_count = len(list(pathlib.Path(data_dir).glob('*/*')))\n",
    "print('Total image count:',image_count)\n",
    "print('Image count equal to dataframe length?', image_count == len(df))"
   ]
  },
  {
   "cell_type": "code",
   "execution_count": 8,
   "id": "af484362-701b-44d4-95c9-ab8974cbddbb",
   "metadata": {
    "execution": {
     "iopub.execute_input": "2024-03-21T01:15:43.189186Z",
     "iopub.status.busy": "2024-03-21T01:15:43.189090Z",
     "iopub.status.idle": "2024-03-21T01:15:43.190881Z",
     "shell.execute_reply": "2024-03-21T01:15:43.190654Z"
    },
    "papermill": {
     "duration": 0.004102,
     "end_time": "2024-03-21T01:15:43.191638",
     "exception": false,
     "start_time": "2024-03-21T01:15:43.187536",
     "status": "completed"
    },
    "tags": []
   },
   "outputs": [
    {
     "name": "stdout",
     "output_type": "stream",
     "text": [
      "Number of training samples: 201\n",
      "Number of validation samples: 65\n",
      "Number of test samples: 22\n"
     ]
    }
   ],
   "source": [
    "num_train_samples = len(train_df)\n",
    "num_val_samples = len(val_df)\n",
    "num_test_samples = len(test_df)\n",
    "print('Number of training samples:',num_train_samples)\n",
    "print('Number of validation samples:',num_val_samples)\n",
    "print('Number of test samples:',num_test_samples)"
   ]
  },
  {
   "cell_type": "markdown",
   "id": "e5ec3475-76b5-41c7-a00a-b9b1b6027ce0",
   "metadata": {
    "papermill": {
     "duration": 0.00128,
     "end_time": "2024-03-21T01:15:43.194284",
     "exception": false,
     "start_time": "2024-03-21T01:15:43.193004",
     "status": "completed"
    },
    "tags": []
   },
   "source": [
    "---"
   ]
  },
  {
   "cell_type": "markdown",
   "id": "79cbb8e7-08f9-402d-95b6-141bf85f49d6",
   "metadata": {
    "papermill": {
     "duration": 0.001228,
     "end_time": "2024-03-21T01:15:43.196766",
     "exception": false,
     "start_time": "2024-03-21T01:15:43.195538",
     "status": "completed"
    },
    "tags": []
   },
   "source": [
    "## Hyperparameter Grid"
   ]
  },
  {
   "cell_type": "code",
   "execution_count": 9,
   "id": "003b3bff-171b-478f-bf38-ebeed80239af",
   "metadata": {
    "execution": {
     "iopub.execute_input": "2024-03-21T01:15:43.199841Z",
     "iopub.status.busy": "2024-03-21T01:15:43.199744Z",
     "iopub.status.idle": "2024-03-21T01:15:43.202270Z",
     "shell.execute_reply": "2024-03-21T01:15:43.202044Z"
    },
    "papermill": {
     "duration": 0.00505,
     "end_time": "2024-03-21T01:15:43.203020",
     "exception": false,
     "start_time": "2024-03-21T01:15:43.197970",
     "status": "completed"
    },
    "tags": []
   },
   "outputs": [],
   "source": [
    "g_batch_size = [4]\n",
    "g_epochs = [35]\n",
    "g_augmentation_params = [\n",
    "    # either None or (flip, rotate_factor, zoom_factor, random_flip_str)\n",
    "    None,\n",
    "]\n",
    "g_cnn_params = [\n",
    "    # cnn_units, cnn_filters, cnn_strides\n",
    "    [(32,), [(3,3)], [(1,1)]],\n",
    "    [(32, 64), [(3,3), (3,3)], [(1,1), (1,1)]],\n",
    "    [(32, 64, 128), [(3,3), (3,3), (3,3)], [(1,1), (1,1), (1,1)]],\n",
    "]\n",
    "g_dropout = [0]\n",
    "g_dense_units = [\n",
    "    (64, 3),\n",
    "    (128, 3)\n",
    "]\n",
    "g_activation = ['relu', 'sigmoid']\n",
    "g_optimizer = [RMSprop]\n",
    "g_earlystop_patience = [10]\n",
    "g_reducel_patience = [2]"
   ]
  },
  {
   "cell_type": "code",
   "execution_count": 10,
   "id": "891b3364-90ab-40f2-852c-abd11a197f23",
   "metadata": {
    "execution": {
     "iopub.execute_input": "2024-03-21T01:15:43.206230Z",
     "iopub.status.busy": "2024-03-21T01:15:43.206134Z",
     "iopub.status.idle": "2024-03-21T01:15:43.207922Z",
     "shell.execute_reply": "2024-03-21T01:15:43.207700Z"
    },
    "papermill": {
     "duration": 0.004202,
     "end_time": "2024-03-21T01:15:43.208669",
     "exception": false,
     "start_time": "2024-03-21T01:15:43.204467",
     "status": "completed"
    },
    "tags": []
   },
   "outputs": [
    {
     "name": "stdout",
     "output_type": "stream",
     "text": [
      "There are 12 parameter combinations to run.\n"
     ]
    }
   ],
   "source": [
    "all_combinations = list(product(g_batch_size, g_epochs, g_augmentation_params, g_cnn_params, g_dropout,\n",
    "                                g_dense_units, g_activation, g_optimizer, g_earlystop_patience, g_reducel_patience))\n",
    "print(f'There are {len(all_combinations)} parameter combinations to run.')"
   ]
  },
  {
   "cell_type": "code",
   "execution_count": 11,
   "id": "1c4d30ba-a824-4426-a083-77b4a53ff784",
   "metadata": {
    "execution": {
     "iopub.execute_input": "2024-03-21T01:15:43.211666Z",
     "iopub.status.busy": "2024-03-21T01:15:43.211584Z",
     "iopub.status.idle": "2024-03-21T01:15:43.216095Z",
     "shell.execute_reply": "2024-03-21T01:15:43.215862Z"
    },
    "papermill": {
     "duration": 0.006879,
     "end_time": "2024-03-21T01:15:43.216855",
     "exception": false,
     "start_time": "2024-03-21T01:15:43.209976",
     "status": "completed"
    },
    "tags": []
   },
   "outputs": [
    {
     "name": "stdout",
     "output_type": "stream",
     "text": [
      "Creating new progress file.\n"
     ]
    }
   ],
   "source": [
    "# Keep track of model fitting in order to resume at a later time if needed.\n",
    "progress_file = f'./model_checkpoints_{FITTING_BATCH_NUM}/model_building_progress.csv'\n",
    "os.makedirs(f'./model_checkpoints_{FITTING_BATCH_NUM}/', exist_ok=True)\n",
    "if os.path.exists(progress_file):\n",
    "    print('Using existing progress file.')\n",
    "    progress = pd.read_csv(progress_file)\n",
    "else:\n",
    "    print('Creating new progress file.')\n",
    "    progress = pd.DataFrame.from_records(all_combinations, columns=['batch_size', 'epochs', 'augmentation_params', 'cnn_params',\n",
    "                                                                    'dropout', 'dense_units', 'activation', 'optimizer',\n",
    "                                                                    'earlystop_patience', 'reducel_patience'])\n",
    "    progress.insert(0, 'model', range(len(all_combinations)))\n",
    "    progress['finished'] = False\n",
    "    class_names = '(Adam|RMSprop)'\n",
    "    progress['optimizer'] = progress['optimizer'].apply(lambda x: re.sub(f'.*{class_names}.*','\\\\1',str(x)))\n",
    "    \n",
    "    progress.to_csv(progress_file, index=False)\n",
    "    progress = pd.read_csv(progress_file)"
   ]
  },
  {
   "cell_type": "code",
   "execution_count": 12,
   "id": "35b58bd8-6527-46e1-a0ff-98a5256c93bb",
   "metadata": {
    "execution": {
     "iopub.execute_input": "2024-03-21T01:15:43.219969Z",
     "iopub.status.busy": "2024-03-21T01:15:43.219878Z",
     "iopub.status.idle": "2024-03-21T01:15:43.225862Z",
     "shell.execute_reply": "2024-03-21T01:15:43.225659Z"
    },
    "papermill": {
     "duration": 0.008364,
     "end_time": "2024-03-21T01:15:43.226637",
     "exception": false,
     "start_time": "2024-03-21T01:15:43.218273",
     "status": "completed"
    },
    "tags": []
   },
   "outputs": [
    {
     "data": {
      "text/html": [
       "<div>\n",
       "<style scoped>\n",
       "    .dataframe tbody tr th:only-of-type {\n",
       "        vertical-align: middle;\n",
       "    }\n",
       "\n",
       "    .dataframe tbody tr th {\n",
       "        vertical-align: top;\n",
       "    }\n",
       "\n",
       "    .dataframe thead th {\n",
       "        text-align: right;\n",
       "    }\n",
       "</style>\n",
       "<table border=\"1\" class=\"dataframe\">\n",
       "  <thead>\n",
       "    <tr style=\"text-align: right;\">\n",
       "      <th></th>\n",
       "      <th>model</th>\n",
       "      <th>batch_size</th>\n",
       "      <th>epochs</th>\n",
       "      <th>augmentation_params</th>\n",
       "      <th>cnn_params</th>\n",
       "      <th>dropout</th>\n",
       "      <th>dense_units</th>\n",
       "      <th>activation</th>\n",
       "      <th>optimizer</th>\n",
       "      <th>earlystop_patience</th>\n",
       "      <th>reducel_patience</th>\n",
       "      <th>finished</th>\n",
       "    </tr>\n",
       "  </thead>\n",
       "  <tbody>\n",
       "    <tr>\n",
       "      <th>0</th>\n",
       "      <td>0</td>\n",
       "      <td>4</td>\n",
       "      <td>35</td>\n",
       "      <td>NaN</td>\n",
       "      <td>[(32,), [(3, 3)], [(1, 1)]]</td>\n",
       "      <td>0</td>\n",
       "      <td>(64, 3)</td>\n",
       "      <td>relu</td>\n",
       "      <td>RMSprop</td>\n",
       "      <td>10</td>\n",
       "      <td>2</td>\n",
       "      <td>False</td>\n",
       "    </tr>\n",
       "    <tr>\n",
       "      <th>1</th>\n",
       "      <td>1</td>\n",
       "      <td>4</td>\n",
       "      <td>35</td>\n",
       "      <td>NaN</td>\n",
       "      <td>[(32,), [(3, 3)], [(1, 1)]]</td>\n",
       "      <td>0</td>\n",
       "      <td>(64, 3)</td>\n",
       "      <td>sigmoid</td>\n",
       "      <td>RMSprop</td>\n",
       "      <td>10</td>\n",
       "      <td>2</td>\n",
       "      <td>False</td>\n",
       "    </tr>\n",
       "    <tr>\n",
       "      <th>2</th>\n",
       "      <td>2</td>\n",
       "      <td>4</td>\n",
       "      <td>35</td>\n",
       "      <td>NaN</td>\n",
       "      <td>[(32,), [(3, 3)], [(1, 1)]]</td>\n",
       "      <td>0</td>\n",
       "      <td>(128, 3)</td>\n",
       "      <td>relu</td>\n",
       "      <td>RMSprop</td>\n",
       "      <td>10</td>\n",
       "      <td>2</td>\n",
       "      <td>False</td>\n",
       "    </tr>\n",
       "    <tr>\n",
       "      <th>3</th>\n",
       "      <td>3</td>\n",
       "      <td>4</td>\n",
       "      <td>35</td>\n",
       "      <td>NaN</td>\n",
       "      <td>[(32,), [(3, 3)], [(1, 1)]]</td>\n",
       "      <td>0</td>\n",
       "      <td>(128, 3)</td>\n",
       "      <td>sigmoid</td>\n",
       "      <td>RMSprop</td>\n",
       "      <td>10</td>\n",
       "      <td>2</td>\n",
       "      <td>False</td>\n",
       "    </tr>\n",
       "    <tr>\n",
       "      <th>4</th>\n",
       "      <td>4</td>\n",
       "      <td>4</td>\n",
       "      <td>35</td>\n",
       "      <td>NaN</td>\n",
       "      <td>[(32, 64), [(3, 3), (3, 3)], [(1, 1), (1, 1)]]</td>\n",
       "      <td>0</td>\n",
       "      <td>(64, 3)</td>\n",
       "      <td>relu</td>\n",
       "      <td>RMSprop</td>\n",
       "      <td>10</td>\n",
       "      <td>2</td>\n",
       "      <td>False</td>\n",
       "    </tr>\n",
       "    <tr>\n",
       "      <th>5</th>\n",
       "      <td>5</td>\n",
       "      <td>4</td>\n",
       "      <td>35</td>\n",
       "      <td>NaN</td>\n",
       "      <td>[(32, 64), [(3, 3), (3, 3)], [(1, 1), (1, 1)]]</td>\n",
       "      <td>0</td>\n",
       "      <td>(64, 3)</td>\n",
       "      <td>sigmoid</td>\n",
       "      <td>RMSprop</td>\n",
       "      <td>10</td>\n",
       "      <td>2</td>\n",
       "      <td>False</td>\n",
       "    </tr>\n",
       "    <tr>\n",
       "      <th>6</th>\n",
       "      <td>6</td>\n",
       "      <td>4</td>\n",
       "      <td>35</td>\n",
       "      <td>NaN</td>\n",
       "      <td>[(32, 64), [(3, 3), (3, 3)], [(1, 1), (1, 1)]]</td>\n",
       "      <td>0</td>\n",
       "      <td>(128, 3)</td>\n",
       "      <td>relu</td>\n",
       "      <td>RMSprop</td>\n",
       "      <td>10</td>\n",
       "      <td>2</td>\n",
       "      <td>False</td>\n",
       "    </tr>\n",
       "    <tr>\n",
       "      <th>7</th>\n",
       "      <td>7</td>\n",
       "      <td>4</td>\n",
       "      <td>35</td>\n",
       "      <td>NaN</td>\n",
       "      <td>[(32, 64), [(3, 3), (3, 3)], [(1, 1), (1, 1)]]</td>\n",
       "      <td>0</td>\n",
       "      <td>(128, 3)</td>\n",
       "      <td>sigmoid</td>\n",
       "      <td>RMSprop</td>\n",
       "      <td>10</td>\n",
       "      <td>2</td>\n",
       "      <td>False</td>\n",
       "    </tr>\n",
       "    <tr>\n",
       "      <th>8</th>\n",
       "      <td>8</td>\n",
       "      <td>4</td>\n",
       "      <td>35</td>\n",
       "      <td>NaN</td>\n",
       "      <td>[(32, 64, 128), [(3, 3), (3, 3), (3, 3)], [(1,...</td>\n",
       "      <td>0</td>\n",
       "      <td>(64, 3)</td>\n",
       "      <td>relu</td>\n",
       "      <td>RMSprop</td>\n",
       "      <td>10</td>\n",
       "      <td>2</td>\n",
       "      <td>False</td>\n",
       "    </tr>\n",
       "    <tr>\n",
       "      <th>9</th>\n",
       "      <td>9</td>\n",
       "      <td>4</td>\n",
       "      <td>35</td>\n",
       "      <td>NaN</td>\n",
       "      <td>[(32, 64, 128), [(3, 3), (3, 3), (3, 3)], [(1,...</td>\n",
       "      <td>0</td>\n",
       "      <td>(64, 3)</td>\n",
       "      <td>sigmoid</td>\n",
       "      <td>RMSprop</td>\n",
       "      <td>10</td>\n",
       "      <td>2</td>\n",
       "      <td>False</td>\n",
       "    </tr>\n",
       "    <tr>\n",
       "      <th>10</th>\n",
       "      <td>10</td>\n",
       "      <td>4</td>\n",
       "      <td>35</td>\n",
       "      <td>NaN</td>\n",
       "      <td>[(32, 64, 128), [(3, 3), (3, 3), (3, 3)], [(1,...</td>\n",
       "      <td>0</td>\n",
       "      <td>(128, 3)</td>\n",
       "      <td>relu</td>\n",
       "      <td>RMSprop</td>\n",
       "      <td>10</td>\n",
       "      <td>2</td>\n",
       "      <td>False</td>\n",
       "    </tr>\n",
       "    <tr>\n",
       "      <th>11</th>\n",
       "      <td>11</td>\n",
       "      <td>4</td>\n",
       "      <td>35</td>\n",
       "      <td>NaN</td>\n",
       "      <td>[(32, 64, 128), [(3, 3), (3, 3), (3, 3)], [(1,...</td>\n",
       "      <td>0</td>\n",
       "      <td>(128, 3)</td>\n",
       "      <td>sigmoid</td>\n",
       "      <td>RMSprop</td>\n",
       "      <td>10</td>\n",
       "      <td>2</td>\n",
       "      <td>False</td>\n",
       "    </tr>\n",
       "  </tbody>\n",
       "</table>\n",
       "</div>"
      ],
      "text/plain": [
       "    model  batch_size  epochs  augmentation_params  \\\n",
       "0       0           4      35                  NaN   \n",
       "1       1           4      35                  NaN   \n",
       "2       2           4      35                  NaN   \n",
       "3       3           4      35                  NaN   \n",
       "4       4           4      35                  NaN   \n",
       "5       5           4      35                  NaN   \n",
       "6       6           4      35                  NaN   \n",
       "7       7           4      35                  NaN   \n",
       "8       8           4      35                  NaN   \n",
       "9       9           4      35                  NaN   \n",
       "10     10           4      35                  NaN   \n",
       "11     11           4      35                  NaN   \n",
       "\n",
       "                                           cnn_params  dropout dense_units  \\\n",
       "0                         [(32,), [(3, 3)], [(1, 1)]]        0     (64, 3)   \n",
       "1                         [(32,), [(3, 3)], [(1, 1)]]        0     (64, 3)   \n",
       "2                         [(32,), [(3, 3)], [(1, 1)]]        0    (128, 3)   \n",
       "3                         [(32,), [(3, 3)], [(1, 1)]]        0    (128, 3)   \n",
       "4      [(32, 64), [(3, 3), (3, 3)], [(1, 1), (1, 1)]]        0     (64, 3)   \n",
       "5      [(32, 64), [(3, 3), (3, 3)], [(1, 1), (1, 1)]]        0     (64, 3)   \n",
       "6      [(32, 64), [(3, 3), (3, 3)], [(1, 1), (1, 1)]]        0    (128, 3)   \n",
       "7      [(32, 64), [(3, 3), (3, 3)], [(1, 1), (1, 1)]]        0    (128, 3)   \n",
       "8   [(32, 64, 128), [(3, 3), (3, 3), (3, 3)], [(1,...        0     (64, 3)   \n",
       "9   [(32, 64, 128), [(3, 3), (3, 3), (3, 3)], [(1,...        0     (64, 3)   \n",
       "10  [(32, 64, 128), [(3, 3), (3, 3), (3, 3)], [(1,...        0    (128, 3)   \n",
       "11  [(32, 64, 128), [(3, 3), (3, 3), (3, 3)], [(1,...        0    (128, 3)   \n",
       "\n",
       "   activation optimizer  earlystop_patience  reducel_patience  finished  \n",
       "0        relu   RMSprop                  10                 2     False  \n",
       "1     sigmoid   RMSprop                  10                 2     False  \n",
       "2        relu   RMSprop                  10                 2     False  \n",
       "3     sigmoid   RMSprop                  10                 2     False  \n",
       "4        relu   RMSprop                  10                 2     False  \n",
       "5     sigmoid   RMSprop                  10                 2     False  \n",
       "6        relu   RMSprop                  10                 2     False  \n",
       "7     sigmoid   RMSprop                  10                 2     False  \n",
       "8        relu   RMSprop                  10                 2     False  \n",
       "9     sigmoid   RMSprop                  10                 2     False  \n",
       "10       relu   RMSprop                  10                 2     False  \n",
       "11    sigmoid   RMSprop                  10                 2     False  "
      ]
     },
     "metadata": {},
     "output_type": "display_data"
    }
   ],
   "source": [
    "display(progress)"
   ]
  },
  {
   "cell_type": "markdown",
   "id": "849c891f-882a-467d-90c9-b6877c476959",
   "metadata": {
    "papermill": {
     "duration": 0.001454,
     "end_time": "2024-03-21T01:15:43.229606",
     "exception": false,
     "start_time": "2024-03-21T01:15:43.228152",
     "status": "completed"
    },
    "tags": []
   },
   "source": [
    "---"
   ]
  },
  {
   "cell_type": "markdown",
   "id": "03e5db2a-8f10-458e-9f95-594507365306",
   "metadata": {
    "papermill": {
     "duration": 0.001389,
     "end_time": "2024-03-21T01:15:43.232407",
     "exception": false,
     "start_time": "2024-03-21T01:15:43.231018",
     "status": "completed"
    },
    "tags": []
   },
   "source": [
    "## Fit Models"
   ]
  },
  {
   "cell_type": "code",
   "execution_count": 13,
   "id": "160132fe-c34d-4876-b86f-48bdb93a6bf3",
   "metadata": {
    "execution": {
     "iopub.execute_input": "2024-03-21T01:15:43.235833Z",
     "iopub.status.busy": "2024-03-21T01:15:43.235664Z",
     "iopub.status.idle": "2024-03-21T01:43:52.746848Z",
     "shell.execute_reply": "2024-03-21T01:43:52.744929Z"
    },
    "papermill": {
     "duration": 1689.516175,
     "end_time": "2024-03-21T01:43:52.750090",
     "exception": false,
     "start_time": "2024-03-21T01:15:43.233915",
     "status": "completed"
    },
    "tags": []
   },
   "outputs": [
    {
     "name": "stdout",
     "output_type": "stream",
     "text": [
      "Model 0: validation accuracy= 0.7846, ran epochs= 25, best epoch= 15, time=2.45min.\n"
     ]
    },
    {
     "name": "stdout",
     "output_type": "stream",
     "text": [
      "Model 1: validation accuracy= 0.3385, ran epochs= 11, best epoch= 1, time=1.06min.\n"
     ]
    },
    {
     "name": "stdout",
     "output_type": "stream",
     "text": [
      "Model 2: validation accuracy= 0.8462, ran epochs= 29, best epoch= 19, time=3.93min.\n"
     ]
    },
    {
     "name": "stdout",
     "output_type": "stream",
     "text": [
      "Model 3: validation accuracy= 0.3385, ran epochs= 11, best epoch= 1, time=1.45min.\n"
     ]
    },
    {
     "name": "stdout",
     "output_type": "stream",
     "text": [
      "Model 4: validation accuracy= 0.7385, ran epochs= 21, best epoch= 11, time=1.75min.\n"
     ]
    },
    {
     "name": "stdout",
     "output_type": "stream",
     "text": [
      "Model 5: validation accuracy= 0.9077, ran epochs= 33, best epoch= 23, time=2.82min.\n"
     ]
    },
    {
     "name": "stdout",
     "output_type": "stream",
     "text": [
      "Model 6: validation accuracy= 0.8154, ran epochs= 21, best epoch= 11, time=2.19min.\n"
     ]
    },
    {
     "name": "stdout",
     "output_type": "stream",
     "text": [
      "Model 7: validation accuracy= 0.8769, ran epochs= 34, best epoch= 24, time=3.51min.\n"
     ]
    },
    {
     "name": "stdout",
     "output_type": "stream",
     "text": [
      "Model 8: validation accuracy= 0.7846, ran epochs= 21, best epoch= 11, time=1.74min.\n"
     ]
    },
    {
     "name": "stdout",
     "output_type": "stream",
     "text": [
      "Model 9: validation accuracy= 0.8923, ran epochs= 25, best epoch= 15, time=2.06min.\n"
     ]
    },
    {
     "name": "stdout",
     "output_type": "stream",
     "text": [
      "Model 10: validation accuracy= 0.7846, ran epochs= 24, best epoch= 14, time=2.17min.\n"
     ]
    },
    {
     "name": "stdout",
     "output_type": "stream",
     "text": [
      "Model 11: validation accuracy= 0.8769, ran epochs= 31, best epoch= 21, time=2.79min.\n"
     ]
    }
   ],
   "source": [
    "os.makedirs(f'./model_checkpoints_{FITTING_BATCH_NUM}/val_metrics', exist_ok=True)\n",
    "os.makedirs(f'./model_checkpoints_{FITTING_BATCH_NUM}/model_histories', exist_ok=True)\n",
    "top_val_acc = dict()\n",
    "models = []\n",
    "for i, params in enumerate(all_combinations):\n",
    "    if progress.at[i, 'finished']:\n",
    "        print(f'Model {i} has already been fitted.')\n",
    "    else:\n",
    "        try:\n",
    "            val_metrics = create_fit_and_save_model(f'model{i}', train_df, val_df, test_df, params, FITTING_BATCH_NUM)\n",
    "            progress.at[i, 'finished'] = True\n",
    "            progress.to_csv(progress_file, index=False)\n",
    "            print(f\"\"\"Model {i}: validation accuracy= {val_metrics['accuracy']:.4f}, ran epochs= {val_metrics['ran_epochs']}, best epoch= {val_metrics['best_epoch']}, time={val_metrics['total_time']/60:.2f}min.\"\"\")\n",
    "            \n",
    "            update_top_values(top_val_acc, val_metrics['accuracy'], i, FITTING_BATCH_NUM)\n",
    "                \n",
    "        except:\n",
    "            print(f'ERROR fitting model {i}')"
   ]
  },
  {
   "cell_type": "code",
   "execution_count": 14,
   "id": "c627a5df-a8e8-4958-90a7-fd42dc50b1a2",
   "metadata": {
    "execution": {
     "iopub.execute_input": "2024-03-21T01:43:52.755913Z",
     "iopub.status.busy": "2024-03-21T01:43:52.755685Z",
     "iopub.status.idle": "2024-03-21T01:43:53.271666Z",
     "shell.execute_reply": "2024-03-21T01:43:53.270936Z"
    },
    "papermill": {
     "duration": 0.520448,
     "end_time": "2024-03-21T01:43:53.273610",
     "exception": false,
     "start_time": "2024-03-21T01:43:52.753162",
     "status": "completed"
    },
    "tags": []
   },
   "outputs": [
    {
     "name": "stdout",
     "output_type": "stream",
     "text": [
      "Notification sent\n"
     ]
    }
   ],
   "source": [
    "send_ifttt_notification('finished')"
   ]
  },
  {
   "cell_type": "markdown",
   "id": "b789fa1f-b388-475d-a25d-4b905729fb5b",
   "metadata": {
    "papermill": {
     "duration": 0.003928,
     "end_time": "2024-03-21T01:43:53.283022",
     "exception": false,
     "start_time": "2024-03-21T01:43:53.279094",
     "status": "completed"
    },
    "tags": []
   },
   "source": [
    "---"
   ]
  }
 ],
 "metadata": {
  "kernelspec": {
   "display_name": "Python 3 (ipykernel)",
   "language": "python",
   "name": "python3"
  },
  "language_info": {
   "codemirror_mode": {
    "name": "ipython",
    "version": 3
   },
   "file_extension": ".py",
   "mimetype": "text/x-python",
   "name": "python",
   "nbconvert_exporter": "python",
   "pygments_lexer": "ipython3",
   "version": "3.10.8"
  },
  "papermill": {
   "default_parameters": {},
   "duration": 1694.235503,
   "end_time": "2024-03-21T01:43:54.323604",
   "environment_variables": {},
   "exception": null,
   "input_path": "./Multi_Model_Building_(Batch_3).ipynb",
   "output_path": "./trained_notebooks/Multi_Model_Building_(Batch_3)_trained.ipynb",
   "parameters": {},
   "start_time": "2024-03-21T01:15:40.088101",
   "version": "2.5.0"
  }
 },
 "nbformat": 4,
 "nbformat_minor": 5
}