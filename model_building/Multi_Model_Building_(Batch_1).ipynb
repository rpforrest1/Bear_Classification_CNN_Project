{
 "cells": [
  {
   "cell_type": "markdown",
   "id": "599b29ae-8410-4898-adf5-46e1eb00c510",
   "metadata": {},
   "source": [
    "# Multi Model Building (Batch 1)"
   ]
  },
  {
   "cell_type": "code",
   "execution_count": null,
   "id": "3fb8c581-0dca-44d5-b57b-fc001f085b4e",
   "metadata": {},
   "outputs": [],
   "source": [
    "FITTING_BATCH_NUM = 1"
   ]
  },
  {
   "cell_type": "code",
   "execution_count": null,
   "id": "0fb845fd-8c0e-4dc8-a6c4-bc6fe6bfc21e",
   "metadata": {},
   "outputs": [],
   "source": [
    "# Remove TF logging warnings\n",
    "import os\n",
    "os.environ['TF_CPP_MIN_LOG_LEVEL'] = '3'"
   ]
  },
  {
   "cell_type": "code",
   "execution_count": null,
   "id": "730093ec-74c7-4ffb-95ac-90c84067364c",
   "metadata": {},
   "outputs": [],
   "source": [
    "import pandas as pd\n",
    "import tensorflow as tf\n",
    "import keras\n",
    "from keras import layers\n",
    "from model_helper_functions import create_fit_and_save_model, send_ifttt_notification, update_top_values\n",
    "from data_pipeline import prep_data, get_train_val_test_data\n",
    "from itertools import product\n",
    "import re\n",
    "import pathlib\n",
    "import shutil\n",
    "\n",
    "# Import correct optimizer\n",
    "import platform\n",
    "if platform.system() == \"Darwin\" and platform.processor() == \"arm\":\n",
    "    from keras.optimizers.legacy import RMSprop, Adam\n",
    "else:\n",
    "    from keras.optimizers import RMSprop, Adam"
   ]
  },
  {
   "cell_type": "code",
   "execution_count": null,
   "id": "f2fc6bc1-2433-4825-bf61-a1476a67580b",
   "metadata": {},
   "outputs": [],
   "source": [
    "# Remove TF logging warnings\n",
    "tf.get_logger().setLevel('ERROR')"
   ]
  },
  {
   "cell_type": "code",
   "execution_count": null,
   "id": "feb60aae-abf9-4eaa-98b7-4741064f2c23",
   "metadata": {},
   "outputs": [],
   "source": [
    "tf.random.set_seed(15)\n",
    "keras.utils.set_random_seed(15)"
   ]
  },
  {
   "cell_type": "code",
   "execution_count": null,
   "id": "1a925ad8-5352-4c36-b2ed-f64a7338e09f",
   "metadata": {},
   "outputs": [],
   "source": [
    "data_dir = '../bears'\n",
    "df = prep_data(data_dir)\n",
    "train_df, val_df, test_df = get_train_val_test_data(df)"
   ]
  },
  {
   "cell_type": "code",
   "execution_count": null,
   "id": "302b53e9-bfa0-4fb2-a114-880d408ae75b",
   "metadata": {},
   "outputs": [],
   "source": [
    "image_count = len(list(pathlib.Path(data_dir).glob('*/*')))\n",
    "print('Total image count:',image_count)\n",
    "print('Image count equal to dataframe length?', image_count == len(df))"
   ]
  },
  {
   "cell_type": "code",
   "execution_count": null,
   "id": "af484362-701b-44d4-95c9-ab8974cbddbb",
   "metadata": {},
   "outputs": [],
   "source": [
    "num_train_samples = len(train_df)\n",
    "num_val_samples = len(val_df)\n",
    "num_test_samples = len(test_df)\n",
    "print('Number of training samples:',num_train_samples)\n",
    "print('Number of validation samples:',num_val_samples)\n",
    "print('Number of test samples:',num_test_samples)"
   ]
  },
  {
   "cell_type": "markdown",
   "id": "e5ec3475-76b5-41c7-a00a-b9b1b6027ce0",
   "metadata": {},
   "source": [
    "---"
   ]
  },
  {
   "cell_type": "markdown",
   "id": "79cbb8e7-08f9-402d-95b6-141bf85f49d6",
   "metadata": {},
   "source": [
    "## Hyperparameter Grid"
   ]
  },
  {
   "cell_type": "code",
   "execution_count": null,
   "id": "003b3bff-171b-478f-bf38-ebeed80239af",
   "metadata": {},
   "outputs": [],
   "source": [
    "g_batch_size = [4, 8]\n",
    "g_epochs = [20]\n",
    "g_augmentation_params = [\n",
    "    # either None or (flip, rotate_factor, zoom_factor, random_flip_str)\n",
    "    None,\n",
    "    (True, 0.25, 0.25, 'horizontal'),\n",
    "]\n",
    "g_cnn_params = [\n",
    "    # cnn_units, cnn_filters, cnn_strides\n",
    "    [(32,), [(3,3)], [(1,1)]],\n",
    "    [(32, 64), [(5,5), (3,3)], [(2,2), (1,1)]],\n",
    "]\n",
    "g_dropout = [0, 0.5]\n",
    "g_dense_units = [\n",
    "    (32, 3),\n",
    "    (64, 3),\n",
    "]\n",
    "g_activation = ['relu']\n",
    "g_optimizer = [Adam]\n",
    "g_earlystop_patience = [5, 10]\n",
    "g_reducel_patience = [1]"
   ]
  },
  {
   "cell_type": "code",
   "execution_count": null,
   "id": "891b3364-90ab-40f2-852c-abd11a197f23",
   "metadata": {},
   "outputs": [],
   "source": [
    "all_combinations = list(product(g_batch_size, g_epochs, g_augmentation_params, g_cnn_params, g_dropout,\n",
    "                                g_dense_units, g_activation, g_optimizer, g_earlystop_patience, g_reducel_patience))\n",
    "print(f'There are {len(all_combinations)} parameter combinations to run.')"
   ]
  },
  {
   "cell_type": "code",
   "execution_count": null,
   "id": "1c4d30ba-a824-4426-a083-77b4a53ff784",
   "metadata": {},
   "outputs": [],
   "source": [
    "# Keep track of model fitting in order to resume at a later time if needed.\n",
    "progress_file = f'./model_checkpoints_{FITTING_BATCH_NUM}/model_building_progress.csv'\n",
    "os.makedirs(f'./model_checkpoints_{FITTING_BATCH_NUM}/', exist_ok=True)\n",
    "if os.path.exists(progress_file):\n",
    "    print('Using existing progress file.')\n",
    "    progress = pd.read_csv(progress_file)\n",
    "else:\n",
    "    print('Creating new progress file.')\n",
    "    progress = pd.DataFrame.from_records(all_combinations, columns=['batch_size', 'epochs', 'augmentation_params', 'cnn_params',\n",
    "                                                                    'dropout', 'dense_units', 'activation', 'optimizer',\n",
    "                                                                    'earlystop_patience', 'reducel_patience'])\n",
    "    progress.insert(0, 'model', range(len(all_combinations)))\n",
    "    progress['finished'] = False\n",
    "    class_names = '(Adam|RMSprop)'\n",
    "    progress['optimizer'] = progress['optimizer'].apply(lambda x: re.sub(f'.*{class_names}.*','\\\\1',str(x)))\n",
    "    \n",
    "    progress.to_csv(progress_file, index=False)\n",
    "    progress = pd.read_csv(progress_file)"
   ]
  },
  {
   "cell_type": "code",
   "execution_count": null,
   "id": "35b58bd8-6527-46e1-a0ff-98a5256c93bb",
   "metadata": {},
   "outputs": [],
   "source": [
    "display(progress)"
   ]
  },
  {
   "cell_type": "markdown",
   "id": "849c891f-882a-467d-90c9-b6877c476959",
   "metadata": {},
   "source": [
    "---"
   ]
  },
  {
   "cell_type": "markdown",
   "id": "03e5db2a-8f10-458e-9f95-594507365306",
   "metadata": {},
   "source": [
    "## Fit Models"
   ]
  },
  {
   "cell_type": "code",
   "execution_count": null,
   "id": "160132fe-c34d-4876-b86f-48bdb93a6bf3",
   "metadata": {},
   "outputs": [],
   "source": [
    "os.makedirs(f'./model_checkpoints_{FITTING_BATCH_NUM}/val_metrics', exist_ok=True)\n",
    "os.makedirs(f'./model_checkpoints_{FITTING_BATCH_NUM}/model_histories', exist_ok=True)\n",
    "top_val_acc = dict()\n",
    "models = []\n",
    "for i, params in enumerate(all_combinations):\n",
    "    if progress.at[i, 'finished']:\n",
    "        print(f'Model {i} has already been fitted.')\n",
    "    else:\n",
    "        try:\n",
    "            val_metrics = create_fit_and_save_model(f'model{i}', train_df, val_df, test_df, params, FITTING_BATCH_NUM)\n",
    "            progress.at[i, 'finished'] = True\n",
    "            progress.to_csv(progress_file, index=False)\n",
    "            print(f\"\"\"Model {i}: validation accuracy= {val_metrics['accuracy']:.4f}, ran epochs= {val_metrics['ran_epochs']}, best epoch= {val_metrics['best_epoch']}, time={val_metrics['total_time']/60:.2f}min.\"\"\")\n",
    "            \n",
    "            update_top_values(top_val_acc, val_metrics['accuracy'], i, FITTING_BATCH_NUM)\n",
    "                \n",
    "        except:\n",
    "            print(f'ERROR fitting model {i}')"
   ]
  },
  {
   "cell_type": "code",
   "execution_count": null,
   "id": "c627a5df-a8e8-4958-90a7-fd42dc50b1a2",
   "metadata": {},
   "outputs": [],
   "source": [
    "send_ifttt_notification('finished')"
   ]
  },
  {
   "cell_type": "markdown",
   "id": "b789fa1f-b388-475d-a25d-4b905729fb5b",
   "metadata": {},
   "source": [
    "---"
   ]
  }
 ],
 "metadata": {
  "kernelspec": {
   "display_name": "Python 3 (ipykernel)",
   "language": "python",
   "name": "python3"
  },
  "language_info": {
   "codemirror_mode": {
    "name": "ipython",
    "version": 3
   },
   "file_extension": ".py",
   "mimetype": "text/x-python",
   "name": "python",
   "nbconvert_exporter": "python",
   "pygments_lexer": "ipython3",
   "version": "3.10.8"
  }
 },
 "nbformat": 4,
 "nbformat_minor": 5
}
